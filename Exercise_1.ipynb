{
  "nbformat": 4,
  "nbformat_minor": 0,
  "metadata": {
    "colab": {
      "name": "Exercise_1.ipynb",
      "provenance": [],
      "authorship_tag": "ABX9TyOul3hyI/dlKNOSkJoaDous",
      "include_colab_link": true
    },
    "kernelspec": {
      "name": "python3",
      "display_name": "Python 3"
    },
    "language_info": {
      "name": "python"
    }
  },
  "cells": [
    {
      "cell_type": "markdown",
      "metadata": {
        "id": "view-in-github",
        "colab_type": "text"
      },
      "source": [
        "<a href=\"https://colab.research.google.com/github/glcn35/Phyton-Assignment/blob/main/Exercise_1.ipynb\" target=\"_parent\"><img src=\"https://colab.research.google.com/assets/colab-badge.svg\" alt=\"Open In Colab\"/></a>"
      ]
    },
    {
      "cell_type": "markdown",
      "source": [
        "Python Exercise\n",
        "Write a Python program to compute the greatest common divisor (GCD) of two positive integers\n",
        "İki pozitif tam sayının en büyük ortak bölenini (GCD) hesaplayan bir Python programı yazın"
      ],
      "metadata": {
        "id": "9-VckvzQzLHZ"
      }
    },
    {
      "cell_type": "code",
      "source": [
        "a =36\n",
        "b= 27\n",
        "min(a,b)"
      ],
      "metadata": {
        "colab": {
          "base_uri": "https://localhost:8080/"
        },
        "id": "sWkQgJDEy83H",
        "outputId": "e400a1c8-178a-47b9-ca6f-b5dc41abbed9"
      },
      "execution_count": 5,
      "outputs": [
        {
          "output_type": "execute_result",
          "data": {
            "text/plain": [
              "27"
            ]
          },
          "metadata": {},
          "execution_count": 5
        }
      ]
    },
    {
      "cell_type": "code",
      "source": [
        "a =36\n",
        "b= 27\n",
        "ebob= []\n",
        "for i in range(1,min(a,b)+1):\n",
        "  if (a%i == 0) and( b%i == 0):\n",
        "     ebob.append(i) \n",
        "print(ebob[-1])\n"
      ],
      "metadata": {
        "colab": {
          "base_uri": "https://localhost:8080/"
        },
        "id": "BK6aNoOuy86Q",
        "outputId": "dea3556f-59e8-4b5d-d221-611dd83ae184"
      },
      "execution_count": 15,
      "outputs": [
        {
          "output_type": "stream",
          "name": "stdout",
          "text": [
            "9\n"
          ]
        }
      ]
    },
    {
      "cell_type": "code",
      "source": [
        "a =int(input('pozitif bir sayı giriniz:'))\n",
        "b= int(input('pozitif bir sayı giriniz:'))\n",
        "ebob= []\n",
        "for i in range(1,min(a,b)+1):\n",
        "  if (a%i == 0) and( b%i == 0):\n",
        "     ebob.append(i) \n",
        "print(ebob[-1])\n"
      ],
      "metadata": {
        "colab": {
          "base_uri": "https://localhost:8080/"
        },
        "id": "WWQMFPwSy880",
        "outputId": "581c1661-92bf-430f-cb63-199bd1ce2260"
      },
      "execution_count": 17,
      "outputs": [
        {
          "output_type": "stream",
          "name": "stdout",
          "text": [
            "pozitif bir sayı giriniz:128\n",
            "pozitif bir sayı giriniz:248\n",
            "8\n"
          ]
        }
      ]
    },
    {
      "cell_type": "code",
      "source": [
        "a=128\n",
        "b=248\n",
        "if a%b==0:\n",
        "  ebob=b\n",
        "elif b%a==0:\n",
        "  ebob=a\n",
        "else:\n",
        "  c=min(a,b)\n",
        "  for i in range(1,int(c/2)):\n",
        "    if a%i==0 and b%i==0:\n",
        "      print(\"Ortak Bölenler:\",i)\n",
        "      ebob=i\n",
        "print(\"EBOB:\",ebob) "
      ],
      "metadata": {
        "id": "SA8QnDepy9Cc"
      },
      "execution_count": null,
      "outputs": []
    },
    {
      "cell_type": "code",
      "source": [
        ""
      ],
      "metadata": {
        "id": "joSKZjc8y9FC"
      },
      "execution_count": null,
      "outputs": []
    },
    {
      "cell_type": "code",
      "source": [
        ""
      ],
      "metadata": {
        "id": "717xLYzky9Hw"
      },
      "execution_count": null,
      "outputs": []
    },
    {
      "cell_type": "code",
      "source": [
        ""
      ],
      "metadata": {
        "id": "Wny_jnJ2y9M7"
      },
      "execution_count": null,
      "outputs": []
    },
    {
      "cell_type": "code",
      "source": [
        ""
      ],
      "metadata": {
        "id": "MGFbfxRSy9QH"
      },
      "execution_count": null,
      "outputs": []
    }
  ]
}