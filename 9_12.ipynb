{
  "nbformat": 4,
  "nbformat_minor": 0,
  "metadata": {
    "colab": {
      "name": "9.12.ipynb",
      "provenance": [],
      "authorship_tag": "ABX9TyMWr4Gldj5eTVqBZ1w8C3Rg",
      "include_colab_link": true
    },
    "kernelspec": {
      "name": "python3",
      "display_name": "Python 3"
    },
    "language_info": {
      "name": "python"
    }
  },
  "cells": [
    {
      "cell_type": "markdown",
      "metadata": {
        "id": "view-in-github",
        "colab_type": "text"
      },
      "source": [
        "<a href=\"https://colab.research.google.com/github/glcn35/Phyton-Assignment/blob/main/9_12.ipynb\" target=\"_parent\"><img src=\"https://colab.research.google.com/assets/colab-badge.svg\" alt=\"Open In Colab\"/></a>"
      ]
    },
    {
      "cell_type": "code",
      "execution_count": null,
      "metadata": {
        "id": "e-CGcZH-Xihw"
      },
      "outputs": [],
      "source": [
        "command = [\"right 20\", \"right 30\",\"left 50\",\"up 10\",\"down 20\"]"
      ]
    },
    {
      "cell_type": "code",
      "source": [
        "command"
      ],
      "metadata": {
        "colab": {
          "base_uri": "https://localhost:8080/"
        },
        "id": "BF4ZsJLSX9m2",
        "outputId": "739d4da6-7c53-4cb9-c6cb-ef3fd603ddaf"
      },
      "execution_count": null,
      "outputs": [
        {
          "output_type": "execute_result",
          "data": {
            "text/plain": [
              "['right 20', 'right 30', 'left 50', 'up 10', 'down 20']"
            ]
          },
          "metadata": {},
          "execution_count": 7
        }
      ]
    },
    {
      "cell_type": "code",
      "source": [
        "x, y = 0, 0 \n",
        "for i in command:\n",
        "  if \"right\" in i:\n",
        "    x += int(i[6:])\n",
        "  elif \"left\" in i:\n",
        "    x -= int(i[5:])\n",
        "  elif \"up\" in i:\n",
        "    y += int(i[3:])\n",
        "  elif \"down\" in i:\n",
        "    y -= int(i[4:])\n",
        "print(x ,y)"
      ],
      "metadata": {
        "colab": {
          "base_uri": "https://localhost:8080/"
        },
        "id": "PcnL-SRfX9pt",
        "outputId": "36cc236d-e0c8-4b0b-f8d7-1259fad5d3d9"
      },
      "execution_count": null,
      "outputs": [
        {
          "output_type": "stream",
          "name": "stdout",
          "text": [
            "0 -10\n"
          ]
        }
      ]
    },
    {
      "cell_type": "code",
      "source": [
        "x, y = 0, 0 \n",
        "for i in command:\n",
        "  if \"right\" in i:\n",
        "    x += int(i[-2:])\n",
        "  elif \"left\" in i:\n",
        "    x -= int(i[-2:])\n",
        "  elif \"up\" in i:\n",
        "    y += int(i[-2:])\n",
        "  elif \"down\" in i:\n",
        "    y -= int(i[-2:])\n",
        "print(x ,y)"
      ],
      "metadata": {
        "colab": {
          "base_uri": "https://localhost:8080/"
        },
        "id": "HVnxshvQX9sM",
        "outputId": "59a54232-a9cc-4660-9435-61353e75e1e1"
      },
      "execution_count": null,
      "outputs": [
        {
          "output_type": "stream",
          "name": "stdout",
          "text": [
            "0 -10\n"
          ]
        }
      ]
    },
    {
      "cell_type": "code",
      "source": [
        "for i in range(len(command)):\n",
        "  if command[i].startswith(\"r\") : x =x + int(command[i].split()[1])\n",
        "  elif command[i].startswith(\"l\") : x =x - int(command[i].split()[1])\n",
        "  elif command[i].startswith(\"u\") : y =y + int(command[i].split()[1])\n",
        "  elif command[i].startswith(\"d\") : y =y - int(command[i].split()[1])\n",
        "\n",
        "[x ,y]"
      ],
      "metadata": {
        "colab": {
          "base_uri": "https://localhost:8080/"
        },
        "id": "j35df6WpX9xm",
        "outputId": "da775875-c581-4429-fe15-13911f45e563"
      },
      "execution_count": null,
      "outputs": [
        {
          "output_type": "execute_result",
          "data": {
            "text/plain": [
              "[50, -50]"
            ]
          },
          "metadata": {},
          "execution_count": 20
        }
      ]
    },
    {
      "cell_type": "code",
      "source": [
        ""
      ],
      "metadata": {
        "id": "1msa0kJ4X8Ib"
      },
      "execution_count": null,
      "outputs": []
    },
    {
      "cell_type": "markdown",
      "source": [
        "**VALİD PARANTHESİS**\n"
      ],
      "metadata": {
        "id": "_OjBq5yzlIf7"
      }
    },
    {
      "cell_type": "markdown",
      "source": [
        "İNPUT                OUTPUT:\n",
        "\n",
        "---\n",
        "\n",
        "\n",
        "-----------          ------------\n",
        "\"()\"                 TRUE\n",
        "\"() [] {}\"           TRUE\n",
        "\"(]\"                 False\n",
        "\"\"                   True\n",
        "\"{()}\"               False"
      ],
      "metadata": {
        "id": "L-gwPQS2lU_T"
      }
    },
    {
      "cell_type": "code",
      "source": [
        "x = \"[([{({})}]({}))\""
      ],
      "metadata": {
        "id": "LYo7_Xq5X8L5"
      },
      "execution_count": null,
      "outputs": []
    },
    {
      "cell_type": "code",
      "source": [
        "\"ali-veli-deli\".replace(\"-\",\"+\")"
      ],
      "metadata": {
        "colab": {
          "base_uri": "https://localhost:8080/",
          "height": 36
        },
        "id": "ME9mAU7VX8RX",
        "outputId": "51303f2f-a39d-4686-9615-c9013fa399a7"
      },
      "execution_count": null,
      "outputs": [
        {
          "output_type": "execute_result",
          "data": {
            "application/vnd.google.colaboratory.intrinsic+json": {
              "type": "string"
            },
            "text/plain": [
              "'ali+veli+deli'"
            ]
          },
          "metadata": {},
          "execution_count": 21
        }
      ]
    },
    {
      "cell_type": "code",
      "source": [
        "\"ali-veli-deli\".replace(\"-\",\"\")"
      ],
      "metadata": {
        "colab": {
          "base_uri": "https://localhost:8080/",
          "height": 36
        },
        "id": "hcMZSrP7X8U_",
        "outputId": "b06825c4-4fb9-42f6-999d-0649aa5eaefb"
      },
      "execution_count": null,
      "outputs": [
        {
          "output_type": "execute_result",
          "data": {
            "application/vnd.google.colaboratory.intrinsic+json": {
              "type": "string"
            },
            "text/plain": [
              "'alivelideli'"
            ]
          },
          "metadata": {},
          "execution_count": 22
        }
      ]
    },
    {
      "cell_type": "code",
      "source": [
        "\"ali-veli-deli\".replace(\"-\",\"\").replace(\"a\",\"\")"
      ],
      "metadata": {
        "colab": {
          "base_uri": "https://localhost:8080/",
          "height": 36
        },
        "id": "DPXEBaIUo4aI",
        "outputId": "b8d5510b-8ae4-4d82-a5d1-a7afa8e2935f"
      },
      "execution_count": null,
      "outputs": [
        {
          "output_type": "execute_result",
          "data": {
            "application/vnd.google.colaboratory.intrinsic+json": {
              "type": "string"
            },
            "text/plain": [
              "'livelideli'"
            ]
          },
          "metadata": {},
          "execution_count": 23
        }
      ]
    },
    {
      "cell_type": "code",
      "source": [
        "\"ali-veli-deli\".replace(\"-\",\"\").replace(\"a\",\"\").replace(\"e\",\"\")"
      ],
      "metadata": {
        "colab": {
          "base_uri": "https://localhost:8080/",
          "height": 36
        },
        "id": "JFVIBPByo4dH",
        "outputId": "ea94b692-e3d7-4724-a4b7-ff8341a318c8"
      },
      "execution_count": null,
      "outputs": [
        {
          "output_type": "execute_result",
          "data": {
            "application/vnd.google.colaboratory.intrinsic+json": {
              "type": "string"
            },
            "text/plain": [
              "'livlidli'"
            ]
          },
          "metadata": {},
          "execution_count": 24
        }
      ]
    },
    {
      "cell_type": "code",
      "source": [
        "def isvalid(s) :\n",
        "    while \"()\" in s or \"[]\" in s or \"{}\" in s :\n",
        "        s= s.replace(\"()\" ,\"\").replace(\"[]\", \"\").replace(\"{}\", \"\")\n",
        "    return s == \"\""
      ],
      "metadata": {
        "id": "yMVyzIJlX8X2"
      },
      "execution_count": null,
      "outputs": []
    },
    {
      "cell_type": "code",
      "source": [
        "isvalid(\"[([{({})}]({}))\")"
      ],
      "metadata": {
        "colab": {
          "base_uri": "https://localhost:8080/"
        },
        "id": "7wAiBVfaX8ag",
        "outputId": "37982aab-d834-41f8-b90f-df7b24b93816"
      },
      "execution_count": null,
      "outputs": [
        {
          "output_type": "execute_result",
          "data": {
            "text/plain": [
              "False"
            ]
          },
          "metadata": {},
          "execution_count": 31
        }
      ]
    },
    {
      "cell_type": "code",
      "source": [
        "isvalid(\"([{({})}]({}))\")"
      ],
      "metadata": {
        "colab": {
          "base_uri": "https://localhost:8080/"
        },
        "id": "d-X0QPIlqUvg",
        "outputId": "f4a228d0-682d-49b2-a1d6-c507178708b9"
      },
      "execution_count": null,
      "outputs": [
        {
          "output_type": "execute_result",
          "data": {
            "text/plain": [
              "True"
            ]
          },
          "metadata": {},
          "execution_count": 34
        }
      ]
    },
    {
      "cell_type": "code",
      "source": [
        "\"ali-veli-deli\".replace(\"-\",\"a*3\")"
      ],
      "metadata": {
        "colab": {
          "base_uri": "https://localhost:8080/",
          "height": 36
        },
        "id": "umy9uJBzX8dT",
        "outputId": "0615948f-548f-404a-a301-52c6599bb1f0"
      },
      "execution_count": null,
      "outputs": [
        {
          "output_type": "execute_result",
          "data": {
            "application/vnd.google.colaboratory.intrinsic+json": {
              "type": "string"
            },
            "text/plain": [
              "'alia*3velia*3deli'"
            ]
          },
          "metadata": {},
          "execution_count": 33
        }
      ]
    },
    {
      "cell_type": "markdown",
      "source": [
        "BUİLDİNG A CALCULATOR USİNG DİCT WİTH LAMBDA EXPRESSİON"
      ],
      "metadata": {
        "id": "R8AmKEQyqy67"
      }
    },
    {
      "cell_type": "code",
      "source": [
        "(lambda x, y : x + y)(4,5)"
      ],
      "metadata": {
        "colab": {
          "base_uri": "https://localhost:8080/"
        },
        "id": "9r6Og5BXX8i4",
        "outputId": "2b34fe87-0812-4adf-8154-47f0e45a8785"
      },
      "execution_count": null,
      "outputs": [
        {
          "output_type": "execute_result",
          "data": {
            "text/plain": [
              "9"
            ]
          },
          "metadata": {},
          "execution_count": 35
        }
      ]
    },
    {
      "cell_type": "code",
      "source": [
        "bir_dict = {\"ne diyorum\" : \"sesimi_duy\" ,\n",
        "            \"neden\" : [\"bilmiyorum\"]}"
      ],
      "metadata": {
        "id": "ozeVHSYFX8lp"
      },
      "execution_count": null,
      "outputs": []
    },
    {
      "cell_type": "code",
      "source": [
        "bir_dict[\"neden\"]"
      ],
      "metadata": {
        "colab": {
          "base_uri": "https://localhost:8080/"
        },
        "id": "1HI2wU72X8ok",
        "outputId": "c4aa3f01-3cff-4546-bba8-f1f67b8b9d9a"
      },
      "execution_count": null,
      "outputs": [
        {
          "output_type": "execute_result",
          "data": {
            "text/plain": [
              "['bilmiyorum']"
            ]
          },
          "metadata": {},
          "execution_count": 38
        }
      ]
    },
    {
      "cell_type": "code",
      "source": [
        "calculator= {\"+\" :(lambda x, y : x + y),\n",
        "             \"-\":(lambda x, y : x - y) ,\n",
        "             \"*\" :(lambda x, y : x * y),\n",
        "             \"/\" :(lambda x, y : x / y)}"
      ],
      "metadata": {
        "id": "kVsuvaAmrojx"
      },
      "execution_count": null,
      "outputs": []
    },
    {
      "cell_type": "code",
      "source": [
        "calculator[\"+\"]"
      ],
      "metadata": {
        "colab": {
          "base_uri": "https://localhost:8080/"
        },
        "id": "vWFdESKSsh01",
        "outputId": "0aed7829-1545-4537-8461-a321ebf4772f"
      },
      "execution_count": null,
      "outputs": [
        {
          "output_type": "execute_result",
          "data": {
            "text/plain": [
              "<function __main__.<lambda>>"
            ]
          },
          "metadata": {},
          "execution_count": 42
        }
      ]
    },
    {
      "cell_type": "code",
      "source": [
        "calculator[\"+\"](4,6)        #yanına lambdadaki gibi x,y yi yazıyoruz"
      ],
      "metadata": {
        "colab": {
          "base_uri": "https://localhost:8080/"
        },
        "id": "RgvJwLdIronF",
        "outputId": "a8d47f60-5c21-4a62-8477-2b50a82aa7eb"
      },
      "execution_count": null,
      "outputs": [
        {
          "output_type": "execute_result",
          "data": {
            "text/plain": [
              "10"
            ]
          },
          "metadata": {},
          "execution_count": 41
        }
      ]
    },
    {
      "cell_type": "code",
      "source": [
        "calculator[\"/\"](80,16)"
      ],
      "metadata": {
        "colab": {
          "base_uri": "https://localhost:8080/"
        },
        "id": "RuM-f8w4ros1",
        "outputId": "cff785be-9952-4c28-e6f3-b36edd5a4c29"
      },
      "execution_count": null,
      "outputs": [
        {
          "output_type": "execute_result",
          "data": {
            "text/plain": [
              "5.0"
            ]
          },
          "metadata": {},
          "execution_count": 46
        }
      ]
    },
    {
      "cell_type": "code",
      "source": [
        "calculator[\"*\"](3,5)"
      ],
      "metadata": {
        "colab": {
          "base_uri": "https://localhost:8080/"
        },
        "id": "IJ8HFMfQrov4",
        "outputId": "15015d7f-89d6-4be1-e537-7a9258f4444a"
      },
      "execution_count": null,
      "outputs": [
        {
          "output_type": "execute_result",
          "data": {
            "text/plain": [
              "15"
            ]
          },
          "metadata": {},
          "execution_count": 48
        }
      ]
    },
    {
      "cell_type": "code",
      "source": [
        "calculator= {\"+\" :(lambda x, y,z : x + y+ z),\n",
        "             \"-\":(lambda x, y : x - y) ,\n",
        "             \"*\" :(lambda x, y : x * y),\n",
        "             \"/\" :(lambda x, y : x / y)}"
      ],
      "metadata": {
        "id": "KsBpw2yJrozR"
      },
      "execution_count": null,
      "outputs": []
    },
    {
      "cell_type": "code",
      "source": [
        "calculator[\"+\"](4,6,8)  \n"
      ],
      "metadata": {
        "colab": {
          "base_uri": "https://localhost:8080/"
        },
        "id": "WxEMZMQFX8rP",
        "outputId": "92146d31-5c5d-4832-b518-1ae7914f6d91"
      },
      "execution_count": null,
      "outputs": [
        {
          "output_type": "execute_result",
          "data": {
            "text/plain": [
              "18"
            ]
          },
          "metadata": {},
          "execution_count": 52
        }
      ]
    },
    {
      "cell_type": "code",
      "source": [
        "import random"
      ],
      "metadata": {
        "id": "O-Rk91CSX8uT"
      },
      "execution_count": null,
      "outputs": []
    },
    {
      "cell_type": "code",
      "source": [
        "chr(111)"
      ],
      "metadata": {
        "colab": {
          "base_uri": "https://localhost:8080/",
          "height": 36
        },
        "id": "QO8tAAthuZpz",
        "outputId": "c47eac0b-a494-4c68-e024-3833b81062d6"
      },
      "execution_count": null,
      "outputs": [
        {
          "output_type": "execute_result",
          "data": {
            "application/vnd.google.colaboratory.intrinsic+json": {
              "type": "string"
            },
            "text/plain": [
              "'o'"
            ]
          },
          "metadata": {},
          "execution_count": 55
        }
      ]
    },
    {
      "cell_type": "code",
      "source": [
        "chr(65)"
      ],
      "metadata": {
        "colab": {
          "base_uri": "https://localhost:8080/",
          "height": 36
        },
        "id": "0ndvxcVwuZtN",
        "outputId": "5ce8c79b-f63a-4380-d282-1b7418e2ae2b"
      },
      "execution_count": null,
      "outputs": [
        {
          "output_type": "execute_result",
          "data": {
            "application/vnd.google.colaboratory.intrinsic+json": {
              "type": "string"
            },
            "text/plain": [
              "'A'"
            ]
          },
          "metadata": {},
          "execution_count": 56
        }
      ]
    },
    {
      "cell_type": "code",
      "source": [
        "chr(48)"
      ],
      "metadata": {
        "colab": {
          "base_uri": "https://localhost:8080/",
          "height": 36
        },
        "id": "RpjFIRzFuZwE",
        "outputId": "790ce555-71a4-4b36-f957-f2616ed4841f"
      },
      "execution_count": null,
      "outputs": [
        {
          "output_type": "execute_result",
          "data": {
            "application/vnd.google.colaboratory.intrinsic+json": {
              "type": "string"
            },
            "text/plain": [
              "'0'"
            ]
          },
          "metadata": {},
          "execution_count": 58
        }
      ]
    },
    {
      "cell_type": "code",
      "source": [
        "chr(55)"
      ],
      "metadata": {
        "colab": {
          "base_uri": "https://localhost:8080/",
          "height": 36
        },
        "id": "DbIzCiMwuZyG",
        "outputId": "2b3c9d3d-58c6-41dd-b357-e1a99d67535c"
      },
      "execution_count": null,
      "outputs": [
        {
          "output_type": "execute_result",
          "data": {
            "application/vnd.google.colaboratory.intrinsic+json": {
              "type": "string"
            },
            "text/plain": [
              "'7'"
            ]
          },
          "metadata": {},
          "execution_count": 59
        }
      ]
    },
    {
      "cell_type": "code",
      "source": [
        "x = 50\n",
        "def func(x):\n",
        "    print('x is', x)\n",
        "    x = 2\n",
        "    print('Changed local x to', x)\n",
        "func(5555)\n",
        "print('x is now', x)"
      ],
      "metadata": {
        "colab": {
          "base_uri": "https://localhost:8080/"
        },
        "id": "YjvinD7OuZ1N",
        "outputId": "551afb79-489f-461a-88ed-63468b35c98f"
      },
      "execution_count": 16,
      "outputs": [
        {
          "output_type": "stream",
          "name": "stdout",
          "text": [
            "x is 5555\n",
            "Changed local x to 2\n",
            "x is now 50\n"
          ]
        }
      ]
    },
    {
      "cell_type": "code",
      "source": [
        "def func(x):\n",
        "    x=65\n",
        "    print('x is', x)\n",
        "    x = 2\n",
        "    print('Changed local x to', x)\n",
        "func(5555)\n",
        "print('x is now', x)\n"
      ],
      "metadata": {
        "colab": {
          "base_uri": "https://localhost:8080/",
          "height": 240
        },
        "id": "n5ZyzslMuZ37",
        "outputId": "8d9da52a-d3cf-4b14-fad2-cd38ba25d6ff"
      },
      "execution_count": null,
      "outputs": [
        {
          "output_type": "stream",
          "name": "stdout",
          "text": [
            "x is 65\n",
            "Changed local x to 2\n"
          ]
        },
        {
          "output_type": "error",
          "ename": "NameError",
          "evalue": "ignored",
          "traceback": [
            "\u001b[0;31m---------------------------------------------------------------------------\u001b[0m",
            "\u001b[0;31mNameError\u001b[0m                                 Traceback (most recent call last)",
            "\u001b[0;32m<ipython-input-2-8b10f80ab709>\u001b[0m in \u001b[0;36m<module>\u001b[0;34m()\u001b[0m\n\u001b[1;32m      5\u001b[0m     \u001b[0mprint\u001b[0m\u001b[0;34m(\u001b[0m\u001b[0;34m'Changed local x to'\u001b[0m\u001b[0;34m,\u001b[0m \u001b[0mx\u001b[0m\u001b[0;34m)\u001b[0m\u001b[0;34m\u001b[0m\u001b[0;34m\u001b[0m\u001b[0m\n\u001b[1;32m      6\u001b[0m \u001b[0mfunc\u001b[0m\u001b[0;34m(\u001b[0m\u001b[0;36m5555\u001b[0m\u001b[0;34m)\u001b[0m\u001b[0;34m\u001b[0m\u001b[0;34m\u001b[0m\u001b[0m\n\u001b[0;32m----> 7\u001b[0;31m \u001b[0mprint\u001b[0m\u001b[0;34m(\u001b[0m\u001b[0;34m'x is now'\u001b[0m\u001b[0;34m,\u001b[0m \u001b[0mx\u001b[0m\u001b[0;34m)\u001b[0m\u001b[0;34m\u001b[0m\u001b[0;34m\u001b[0m\u001b[0m\n\u001b[0m",
            "\u001b[0;31mNameError\u001b[0m: name 'x' is not defined"
          ]
        }
      ]
    },
    {
      "cell_type": "code",
      "source": [
        "def func(xd):\n",
        "    xd =65\n",
        "    print('x is', xd)\n",
        "    xd = 2\n",
        "    print('Changed local xd to', xd)\n",
        "func(5555)\n",
        "print('xd is now', xd)"
      ],
      "metadata": {
        "colab": {
          "base_uri": "https://localhost:8080/",
          "height": 240
        },
        "id": "43UXsd4cX8xK",
        "outputId": "60d866d7-5555-4080-ea54-bd388e2e8c08"
      },
      "execution_count": null,
      "outputs": [
        {
          "output_type": "stream",
          "name": "stdout",
          "text": [
            "x is 65\n",
            "Changed local xd to 2\n"
          ]
        },
        {
          "output_type": "error",
          "ename": "NameError",
          "evalue": "ignored",
          "traceback": [
            "\u001b[0;31m---------------------------------------------------------------------------\u001b[0m",
            "\u001b[0;31mNameError\u001b[0m                                 Traceback (most recent call last)",
            "\u001b[0;32m<ipython-input-11-233aa9716bf4>\u001b[0m in \u001b[0;36m<module>\u001b[0;34m()\u001b[0m\n\u001b[1;32m      5\u001b[0m     \u001b[0mprint\u001b[0m\u001b[0;34m(\u001b[0m\u001b[0;34m'Changed local xd to'\u001b[0m\u001b[0;34m,\u001b[0m \u001b[0mxd\u001b[0m\u001b[0;34m)\u001b[0m\u001b[0;34m\u001b[0m\u001b[0;34m\u001b[0m\u001b[0m\n\u001b[1;32m      6\u001b[0m \u001b[0mfunc\u001b[0m\u001b[0;34m(\u001b[0m\u001b[0;36m5555\u001b[0m\u001b[0;34m)\u001b[0m\u001b[0;34m\u001b[0m\u001b[0;34m\u001b[0m\u001b[0m\n\u001b[0;32m----> 7\u001b[0;31m \u001b[0mprint\u001b[0m\u001b[0;34m(\u001b[0m\u001b[0;34m'xd is now'\u001b[0m\u001b[0;34m,\u001b[0m \u001b[0mxd\u001b[0m\u001b[0;34m)\u001b[0m\u001b[0;34m\u001b[0m\u001b[0;34m\u001b[0m\u001b[0m\n\u001b[0m",
            "\u001b[0;31mNameError\u001b[0m: name 'xd' is not defined"
          ]
        }
      ]
    },
    {
      "cell_type": "code",
      "source": [
        "def func(y=8):\n",
        "    print('y is', y)\n",
        "    y = 2\n",
        "    print('Changed local y to', y)\n",
        "func()\n",
        "print('y is now', y)"
      ],
      "metadata": {
        "id": "IZ-Z-FALX80F",
        "colab": {
          "base_uri": "https://localhost:8080/",
          "height": 239
        },
        "outputId": "8a38a9a9-8563-4f97-90fa-4417c1f8f017"
      },
      "execution_count": 14,
      "outputs": [
        {
          "output_type": "stream",
          "name": "stdout",
          "text": [
            "y is 8\n",
            "Changed local y to 2\n"
          ]
        },
        {
          "output_type": "error",
          "ename": "NameError",
          "evalue": "ignored",
          "traceback": [
            "\u001b[0;31m---------------------------------------------------------------------------\u001b[0m",
            "\u001b[0;31mNameError\u001b[0m                                 Traceback (most recent call last)",
            "\u001b[0;32m<ipython-input-14-7a0d81613c19>\u001b[0m in \u001b[0;36m<module>\u001b[0;34m()\u001b[0m\n\u001b[1;32m      4\u001b[0m     \u001b[0mprint\u001b[0m\u001b[0;34m(\u001b[0m\u001b[0;34m'Changed local y to'\u001b[0m\u001b[0;34m,\u001b[0m \u001b[0my\u001b[0m\u001b[0;34m)\u001b[0m\u001b[0;34m\u001b[0m\u001b[0;34m\u001b[0m\u001b[0m\n\u001b[1;32m      5\u001b[0m \u001b[0mfunc\u001b[0m\u001b[0;34m(\u001b[0m\u001b[0;34m)\u001b[0m\u001b[0;34m\u001b[0m\u001b[0;34m\u001b[0m\u001b[0m\n\u001b[0;32m----> 6\u001b[0;31m \u001b[0mprint\u001b[0m\u001b[0;34m(\u001b[0m\u001b[0;34m'y is now'\u001b[0m\u001b[0;34m,\u001b[0m \u001b[0my\u001b[0m\u001b[0;34m)\u001b[0m\u001b[0;34m\u001b[0m\u001b[0;34m\u001b[0m\u001b[0m\n\u001b[0m",
            "\u001b[0;31mNameError\u001b[0m: name 'y' is not defined"
          ]
        }
      ]
    },
    {
      "cell_type": "code",
      "source": [
        "def function1(var1=5, var2=7):\n",
        "  return var1 ,\" \", var2\n",
        "  var2=9\n",
        "  var1=3\n",
        "  print (var1, \" \", var2)\n",
        "function1(10,)\n"
      ],
      "metadata": {
        "id": "MAZ9vFDKX83L",
        "colab": {
          "base_uri": "https://localhost:8080/"
        },
        "outputId": "b11bd231-2606-4be9-f997-644ea0663109"
      },
      "execution_count": 22,
      "outputs": [
        {
          "output_type": "execute_result",
          "data": {
            "text/plain": [
              "(10, ' ', 7)"
            ]
          },
          "metadata": {},
          "execution_count": 22
        }
      ]
    },
    {
      "cell_type": "code",
      "source": [
        "def function1(var1=5, var2=7):\n",
        "  return var1 ,\" \", var2\n",
        "var2=9\n",
        "var1=3\n",
        "print (var1, \" \", var2)\n",
        "function1(10,)"
      ],
      "metadata": {
        "id": "m8fCx8s-X86x",
        "colab": {
          "base_uri": "https://localhost:8080/"
        },
        "outputId": "03587028-525b-47d5-fa96-ffa5b5845ddf"
      },
      "execution_count": 23,
      "outputs": [
        {
          "output_type": "stream",
          "name": "stdout",
          "text": [
            "3   9\n"
          ]
        },
        {
          "output_type": "execute_result",
          "data": {
            "text/plain": [
              "(10, ' ', 7)"
            ]
          },
          "metadata": {},
          "execution_count": 23
        }
      ]
    },
    {
      "cell_type": "code",
      "source": [
        "def function1(var1=5, var2=7):\n",
        "  return var1 ,\" \", var2\n",
        "function1(10,8)\n",
        "\n",
        "var25=9\n",
        "var15=3\n",
        "print (var1, function1(10,8) , var2)\n"
      ],
      "metadata": {
        "colab": {
          "base_uri": "https://localhost:8080/"
        },
        "id": "3Vpg0OyxfYm2",
        "outputId": "8c92366f-76dc-45ec-c253-e76dcfe8672f"
      },
      "execution_count": 11,
      "outputs": [
        {
          "output_type": "stream",
          "name": "stdout",
          "text": [
            "3 (10, ' ', 8) 9\n"
          ]
        }
      ]
    },
    {
      "cell_type": "code",
      "source": [
        "def function1(var1=5, var2=\"ali\"):\n",
        "  return var1 + var2\n",
        "function1(\"veli\",)\n"
      ],
      "metadata": {
        "colab": {
          "base_uri": "https://localhost:8080/",
          "height": 35
        },
        "id": "AoBvl9r6fYtK",
        "outputId": "e065c6e1-4097-4643-d5f1-2eeafde101df"
      },
      "execution_count": 16,
      "outputs": [
        {
          "output_type": "execute_result",
          "data": {
            "application/vnd.google.colaboratory.intrinsic+json": {
              "type": "string"
            },
            "text/plain": [
              "'veliali'"
            ]
          },
          "metadata": {},
          "execution_count": 16
        }
      ]
    },
    {
      "cell_type": "code",
      "source": [
        "def function1(var1=5, var2=7):\n",
        "    print(var1 ,\" \", var2)\n",
        "function1(10,8)\n",
        "\n",
        "var2=9\n",
        "var1=3\n",
        "print (var1, \" \", var2)"
      ],
      "metadata": {
        "colab": {
          "base_uri": "https://localhost:8080/"
        },
        "id": "4Sh2Di85fYwJ",
        "outputId": "164c7371-b21c-4182-fc3e-1482cbae15de"
      },
      "execution_count": 6,
      "outputs": [
        {
          "output_type": "stream",
          "name": "stdout",
          "text": [
            "10   8\n",
            "3   9\n"
          ]
        }
      ]
    },
    {
      "cell_type": "code",
      "source": [
        "def function1(var1=5, var2=7):\n",
        "  return var1,\" \", var2\n",
        "list((function1(10,8)))"
      ],
      "metadata": {
        "colab": {
          "base_uri": "https://localhost:8080/"
        },
        "id": "2qCqk5tqfYzZ",
        "outputId": "32a1310b-fd5d-4ce1-ab34-2a7f90fa3784"
      },
      "execution_count": 4,
      "outputs": [
        {
          "output_type": "execute_result",
          "data": {
            "text/plain": [
              "[10, ' ', 8]"
            ]
          },
          "metadata": {},
          "execution_count": 4
        }
      ]
    },
    {
      "cell_type": "code",
      "source": [
        "print(type(function1()))"
      ],
      "metadata": {
        "colab": {
          "base_uri": "https://localhost:8080/"
        },
        "id": "7Ziz7KlbfY2G",
        "outputId": "fbe9a7af-679d-4331-e45e-4994bfe20d07"
      },
      "execution_count": 5,
      "outputs": [
        {
          "output_type": "stream",
          "name": "stdout",
          "text": [
            "<class 'tuple'>\n"
          ]
        }
      ]
    },
    {
      "cell_type": "code",
      "source": [
        ""
      ],
      "metadata": {
        "id": "cgdq2Qf3lNKm"
      },
      "execution_count": null,
      "outputs": []
    },
    {
      "cell_type": "code",
      "source": [
        ""
      ],
      "metadata": {
        "id": "NGRQ6pb8lNNf"
      },
      "execution_count": null,
      "outputs": []
    },
    {
      "cell_type": "code",
      "source": [
        ""
      ],
      "metadata": {
        "id": "25WYEvx7lNQW"
      },
      "execution_count": null,
      "outputs": []
    },
    {
      "cell_type": "code",
      "source": [
        ""
      ],
      "metadata": {
        "id": "bPzbRq-alNX_"
      },
      "execution_count": null,
      "outputs": []
    },
    {
      "cell_type": "code",
      "source": [
        ""
      ],
      "metadata": {
        "id": "AA2Cu2thlNbM"
      },
      "execution_count": null,
      "outputs": []
    }
  ]
}