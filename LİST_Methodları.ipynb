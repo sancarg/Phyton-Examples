{
  "nbformat": 4,
  "nbformat_minor": 0,
  "metadata": {
    "colab": {
      "name": "LİST_Methodları.ipynb",
      "provenance": [],
      "authorship_tag": "ABX9TyPtbVf6j8yur1Bktp6gGVe+",
      "include_colab_link": true
    },
    "kernelspec": {
      "name": "python3",
      "display_name": "Python 3"
    },
    "language_info": {
      "name": "python"
    }
  },
  "cells": [
    {
      "cell_type": "markdown",
      "metadata": {
        "id": "view-in-github",
        "colab_type": "text"
      },
      "source": [
        "<a href=\"https://colab.research.google.com/github/glcn35/Phyton-Assignment/blob/main/L%C4%B0ST_Methodlar%C4%B1.ipynb\" target=\"_parent\"><img src=\"https://colab.research.google.com/assets/colab-badge.svg\" alt=\"Open In Colab\"/></a>"
      ]
    },
    {
      "cell_type": "code",
      "execution_count": null,
      "metadata": {
        "id": "YUMxZQHp30e5"
      },
      "outputs": [],
      "source": [
        "#A list of the numbers 1 through 20\n",
        "myList = [17, 12, 9, 18, 11, 19, 7, 13, 14, 16, 1, 10, 8, 4, 6, 3, 15, 2, 5, 20]\n",
        "print(myList, \": Original list\")\n",
        "myList.sort()\n",
        "print(myList, \": After sorting\")\n",
        "myList.append(21)\n",
        "print(myList, \": After appending 21\")\n",
        "myOtherList = [26, 22, 23, 24]\n",
        "myList.extend(myOtherList)\n",
        "print(myList, \": After extending with myOtherList\")\n",
        "myList.insert(15, 25)\n",
        "print(myList, \": After inserting 25 at the index 15\")\n",
        "myList.remove(26)\n",
        "print(myList, \": After removing 26\")\n",
        "myList.sort()\n",
        "print(myList, \": After sorting again\")\n",
        "myList.reverse()\n",
        "print(myList, \": After reversing\")\n",
        "myList.pop()\n",
        "print(myList, \": After popping\")\n",
        "del myList[-5:]\n",
        "print(myList, \": After deleting the last five items\")\n",
        "print(myList.index(23), \": Index of 23\")\n",
        "print(myList.count(15), \": Count of 15\")\n",
        "print(4 in myList, \": 4 in myList\")\n",
        "print(25 in myList, \": 25 in myList\")"
      ]
    }
  ]
}