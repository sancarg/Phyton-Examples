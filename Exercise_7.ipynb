{
  "nbformat": 4,
  "nbformat_minor": 0,
  "metadata": {
    "colab": {
      "name": "Exercise_7.ipynb",
      "provenance": [],
      "collapsed_sections": [],
      "authorship_tag": "ABX9TyPZlliXf6qG5nQa9kbGCoH6",
      "include_colab_link": true
    },
    "kernelspec": {
      "name": "python3",
      "display_name": "Python 3"
    },
    "language_info": {
      "name": "python"
    }
  },
  "cells": [
    {
      "cell_type": "markdown",
      "metadata": {
        "id": "view-in-github",
        "colab_type": "text"
      },
      "source": [
        "<a href=\"https://colab.research.google.com/github/glcn35/Phyton-Assignment/blob/main/Exercise_7.ipynb\" target=\"_parent\"><img src=\"https://colab.research.google.com/assets/colab-badge.svg\" alt=\"Open In Colab\"/></a>"
      ]
    },
    {
      "cell_type": "markdown",
      "source": [
        "Python Exercise-7\n",
        "If the two objects received from the user are of an integer type, write a Python program to sum the two objects\n",
        "\n",
        "\n",
        "Kullanıcıdan alınan iki nesne tamsayı türündeyse, iki nesneyi toplamak için bir Python programı yazın."
      ],
      "metadata": {
        "id": "jcahOM8w-g4J"
      }
    },
    {
      "cell_type": "code",
      "source": [
        "num1 = input(\"please ,enter integer number :\")\n",
        "num2 = input(\"please ,enter integer number :\")\n",
        "if num1.isnumeric() and num2.isnumeric():\n",
        "  print(int(num1)+ int(num2))\n",
        "else:\n",
        "  print(\"input is not integer\")\n"
      ],
      "metadata": {
        "colab": {
          "base_uri": "https://localhost:8080/"
        },
        "id": "UoX-MWgO-lYX",
        "outputId": "73f62074-d088-4397-db5b-01a055174d11"
      },
      "execution_count": 4,
      "outputs": [
        {
          "output_type": "stream",
          "name": "stdout",
          "text": [
            "please ,enter integer number :65\n",
            "please ,enter integer number :6.6\n",
            "input is not integer\n"
          ]
        }
      ]
    },
    {
      "cell_type": "code",
      "source": [
        ""
      ],
      "metadata": {
        "id": "3SPXqost-llH"
      },
      "execution_count": null,
      "outputs": []
    },
    {
      "cell_type": "code",
      "source": [
        ""
      ],
      "metadata": {
        "id": "C0pR3TiH-lvD"
      },
      "execution_count": null,
      "outputs": []
    },
    {
      "cell_type": "code",
      "source": [
        ""
      ],
      "metadata": {
        "id": "vEI3-Y6C-l4b"
      },
      "execution_count": null,
      "outputs": []
    },
    {
      "cell_type": "code",
      "source": [
        ""
      ],
      "metadata": {
        "id": "5P3aqYFO-l9E"
      },
      "execution_count": null,
      "outputs": []
    }
  ]
}