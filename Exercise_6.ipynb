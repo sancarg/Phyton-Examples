{
  "nbformat": 4,
  "nbformat_minor": 0,
  "metadata": {
    "colab": {
      "name": "Exercise_6.ipynb",
      "provenance": [],
      "collapsed_sections": [],
      "authorship_tag": "ABX9TyOgBr6Fj7AWMQOTDsnaKpWF",
      "include_colab_link": true
    },
    "kernelspec": {
      "name": "python3",
      "display_name": "Python 3"
    },
    "language_info": {
      "name": "python"
    }
  },
  "cells": [
    {
      "cell_type": "markdown",
      "metadata": {
        "id": "view-in-github",
        "colab_type": "text"
      },
      "source": [
        "<a href=\"https://colab.research.google.com/github/glcn35/Phyton-Assignment/blob/main/Exercise_6.ipynb\" target=\"_parent\"><img src=\"https://colab.research.google.com/assets/colab-badge.svg\" alt=\"Open In Colab\"/></a>"
      ]
    },
    {
      "cell_type": "markdown",
      "source": [
        "Python exercise-6: If the entered side lengths do not form a triangle, write the code that determines the type of triangle according to the three side information entered by the user. ( In absolute value, the difference of two sides is taken, if the difference is greater than the other side, the entered values ​​do not form a triangle. This is done for all sides.\n",
        "\n",
        "Python alıştırma-6: Girilen kenar uzunlukları üçgen oluşturmuyorsa kullanıcı tarafından girilen üç kenar bilgisine göre üçgenin türünü belirleyen kodu yazınız. ( Mutlak değerde iki kenarın farkı alınır, eğer fark diğer kenardan büyük ise girilen değerler üçgen oluşturmaz. Bu tüm kenarlar için yapılır.\n",
        "\n"
      ],
      "metadata": {
        "id": "SOT8Bcn-IjZd"
      }
    },
    {
      "cell_type": "code",
      "source": [
        "a= int(input(\"üçgenin birinci kenar uzunluğunu giriniz:\"))\n",
        "b= int(input(\"üçgenin ikinci kenar uzunluğunu giriniz:\"))\n",
        "c= int(input(\"üçgenin üçüncü kenar uzunluğunu giriniz:\"))\n",
        "if abs(a-b) >c or abs(a-c)>b or abs(c-b)>a:\n",
        "  print(\"üçgen oluşamaz\")\n",
        "elif a==b==c :\n",
        "  print(\"eşkenar üçgen\")\n",
        "elif a==b or a==c or b==c:\n",
        "  print(\"ikizkenar üçgen\")\n",
        "else:\n",
        "  print(\"çeşitkenar üçgen\")"
      ],
      "metadata": {
        "colab": {
          "base_uri": "https://localhost:8080/"
        },
        "id": "xl2yMrj3IxMj",
        "outputId": "7845a31c-e131-4fa1-ff45-5c270b828357"
      },
      "execution_count": 4,
      "outputs": [
        {
          "output_type": "stream",
          "name": "stdout",
          "text": [
            "üçgenin birinci kenar uzunluğunu giriniz:2\n",
            "üçgenin ikinci kenar uzunluğunu giriniz:9\n",
            "üçgenin üçüncü kenar uzunluğunu giriniz:13\n",
            "üçgen oluşamaz\n"
          ]
        }
      ]
    },
    {
      "cell_type": "code",
      "source": [
        ""
      ],
      "metadata": {
        "colab": {
          "base_uri": "https://localhost:8080/"
        },
        "id": "JqamDYIXIxVh",
        "outputId": "5ec1e1f7-e2de-4831-fc82-0bc977db35c3"
      },
      "execution_count": 5,
      "outputs": [
        {
          "output_type": "execute_result",
          "data": {
            "text/plain": [
              "4"
            ]
          },
          "metadata": {},
          "execution_count": 5
        }
      ]
    }
  ]
}