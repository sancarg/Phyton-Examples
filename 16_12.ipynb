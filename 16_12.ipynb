{
  "nbformat": 4,
  "nbformat_minor": 0,
  "metadata": {
    "colab": {
      "name": "16.12.ipynb",
      "provenance": [],
      "collapsed_sections": [],
      "authorship_tag": "ABX9TyOq8s1KZs32+IU4JHIhPmRf",
      "include_colab_link": true
    },
    "kernelspec": {
      "name": "python3",
      "display_name": "Python 3"
    },
    "language_info": {
      "name": "python"
    }
  },
  "cells": [
    {
      "cell_type": "markdown",
      "metadata": {
        "id": "view-in-github",
        "colab_type": "text"
      },
      "source": [
        "<a href=\"https://colab.research.google.com/github/glcn35/Phyton-Assignment/blob/main/16_12.ipynb\" target=\"_parent\"><img src=\"https://colab.research.google.com/assets/colab-badge.svg\" alt=\"Open In Colab\"/></a>"
      ]
    },
    {
      "cell_type": "code",
      "execution_count": null,
      "metadata": {
        "colab": {
          "base_uri": "https://localhost:8080/"
        },
        "id": "PaYDg1ItIYia",
        "outputId": "03dc0f6c-d52c-485e-fca6-89c7b35930c6"
      },
      "outputs": [
        {
          "output_type": "stream",
          "name": "stdout",
          "text": [
            "[1, 4, 9, 16, 25, 36, 49, 64, 81, 100]\n"
          ]
        }
      ],
      "source": [
        "liste =[1,2,3,4,5,6,7,8,9,10]\n",
        "def kareal(sayı):\n",
        "  return sayı**2\n",
        "\n",
        "map1=list(map(kareal,liste))\n",
        "print(map1)"
      ]
    },
    {
      "cell_type": "code",
      "source": [
        "liste =[1,2,3,4,5,6,7,8,9,10]\n",
        "def kareal(sayı):\n",
        "  return sayı**2\n",
        "\n",
        "map2=list(map(str,liste))\n",
        "print(map2)"
      ],
      "metadata": {
        "colab": {
          "base_uri": "https://localhost:8080/"
        },
        "id": "JWS4bBmoIaEP",
        "outputId": "e0dcf1a7-1fe5-4e62-953c-3905aaca0a94"
      },
      "execution_count": null,
      "outputs": [
        {
          "output_type": "stream",
          "name": "stdout",
          "text": [
            "['1', '2', '3', '4', '5', '6', '7', '8', '9', '10']\n"
          ]
        }
      ]
    },
    {
      "cell_type": "code",
      "source": [
        "liste1 = [1,3,5,9,7,6,8]\n",
        "liste2 = (6,8,7,9,4,6)\n",
        "liste3 = [8,4,9,3,1,5,9]\n",
        "map2 = map(lambda x,y,z:x*y*z,liste1,liste2,liste3)\n",
        "print(list(map2))"
      ],
      "metadata": {
        "colab": {
          "base_uri": "https://localhost:8080/"
        },
        "id": "kR3ZBw-6IaGl",
        "outputId": "8e77f984-d058-40e8-cd90-746b8ab9ae22"
      },
      "execution_count": null,
      "outputs": [
        {
          "output_type": "stream",
          "name": "stdout",
          "text": [
            "[48, 96, 315, 243, 28, 180]\n"
          ]
        }
      ]
    },
    {
      "cell_type": "code",
      "source": [
        "liste1 = [1,3,5,9,7,6,8]\n",
        "liste2 = [6,8,7,9,4,6]\n",
        "liste3 = [1,4,9,3,1,5,9]\n",
        "map2 = map(lambda x,y,z:x*y*z,liste1,liste2,str(liste3))\n",
        "print(list(map2))"
      ],
      "metadata": {
        "colab": {
          "base_uri": "https://localhost:8080/"
        },
        "id": "-LWt-EopIaJL",
        "outputId": "e9250dd4-2bcd-4f42-c128-c5e42cd4081f"
      },
      "execution_count": null,
      "outputs": [
        {
          "output_type": "stream",
          "name": "stdout",
          "text": [
            "['[[[[[[', '111111111111111111111111', ',,,,,,,,,,,,,,,,,,,,,,,,,,,,,,,,,,,', '                                                                                 ', '4444444444444444444444444444', ',,,,,,,,,,,,,,,,,,,,,,,,,,,,,,,,,,,,']\n"
          ]
        }
      ]
    },
    {
      "cell_type": "code",
      "source": [
        "liste3 = [1,4,9,3,1,5,9]\n",
        "liste3=map(str,liste3)\n",
        "list(liste3)"
      ],
      "metadata": {
        "colab": {
          "base_uri": "https://localhost:8080/"
        },
        "id": "DKgdgBQ2IaOX",
        "outputId": "49e3eee3-2a30-4d7a-bf9b-ea509c4c3562"
      },
      "execution_count": null,
      "outputs": [
        {
          "output_type": "execute_result",
          "data": {
            "text/plain": [
              "['1', '4', '9', '3', '1', '5', '9']"
            ]
          },
          "metadata": {},
          "execution_count": 17
        }
      ]
    },
    {
      "cell_type": "code",
      "source": [
        "liste1 = [1,3,5,9,7,6,8]\n",
        "liste2 = [6,8,7,9,4,6]\n",
        "liste3 = [1,4,9,3,1,5,9]\n",
        "map2 = map(lambda x,y,z:x*y*z,liste1,liste2,map(str,liste3))\n",
        "print(list(map2))"
      ],
      "metadata": {
        "colab": {
          "base_uri": "https://localhost:8080/"
        },
        "id": "vODBWR1uIaT1",
        "outputId": "744dacc8-2cbc-4525-f207-0ef842db9fe0"
      },
      "execution_count": null,
      "outputs": [
        {
          "output_type": "stream",
          "name": "stdout",
          "text": [
            "['111111', '444444444444444444444444', '99999999999999999999999999999999999', '333333333333333333333333333333333333333333333333333333333333333333333333333333333', '1111111111111111111111111111', '555555555555555555555555555555555555']\n"
          ]
        }
      ]
    },
    {
      "cell_type": "code",
      "source": [
        "liste = [1,2,3,4,5,6,7,8,9,10]\n",
        "def kareAl(sayi):\n",
        "    return sayi**2\n",
        "bosList=[]\n",
        "for i in liste:\n",
        "   bosList.append(kareAl(i))\n",
        "print(bosList)"
      ],
      "metadata": {
        "colab": {
          "base_uri": "https://localhost:8080/"
        },
        "id": "ImQLGX8TIaXV",
        "outputId": "596553e9-07af-4c04-9d35-586331ea1146"
      },
      "execution_count": null,
      "outputs": [
        {
          "output_type": "stream",
          "name": "stdout",
          "text": [
            "[1, 4, 9, 16, 25, 36, 49, 64, 81, 100]\n"
          ]
        }
      ]
    },
    {
      "cell_type": "code",
      "source": [
        "liste = [1,2,3,4,5,6,7,8,9,10]\n",
        "def kareAl(sayi):\n",
        "    return sayi**2\n",
        "for i in range(10):\n",
        "    a=kareAl(liste[i])\n",
        "    liste[i]=a\n",
        "print(liste)"
      ],
      "metadata": {
        "colab": {
          "base_uri": "https://localhost:8080/"
        },
        "id": "OdJsHintQmce",
        "outputId": "7ea917b5-bdc9-4446-ea13-4e94417eceae"
      },
      "execution_count": null,
      "outputs": [
        {
          "output_type": "stream",
          "name": "stdout",
          "text": [
            "[1, 4, 9, 16, 25, 36, 49, 64, 81, 100]\n"
          ]
        }
      ]
    },
    {
      "cell_type": "code",
      "source": [
        "liste = [1,2,3,4,5,6,7,8,9,10]\n",
        "def kareAl(sayi):\n",
        "    return sayi**2\n",
        "boslist=[]\n",
        "for i in range(10):\n",
        "    a=kareAl(liste[i])\n",
        "    boslist.insert(i,a)\n",
        "print(boslist)"
      ],
      "metadata": {
        "colab": {
          "base_uri": "https://localhost:8080/"
        },
        "id": "kAB0bDe5QmfC",
        "outputId": "9a9a07a7-66e2-4835-dcff-14f2ca3cfd62"
      },
      "execution_count": null,
      "outputs": [
        {
          "output_type": "stream",
          "name": "stdout",
          "text": [
            "[1, 4, 9, 16, 25, 36, 49, 64, 81, 100]\n"
          ]
        }
      ]
    },
    {
      "cell_type": "code",
      "source": [
        "liste = range(20)\n",
        "filter1 = filter(lambda sayi:sayi%2==0,liste)\n",
        "print(list(filter1))\n"
      ],
      "metadata": {
        "colab": {
          "base_uri": "https://localhost:8080/"
        },
        "id": "_DszXiq4Qmhr",
        "outputId": "e3b9904f-893a-4b21-a072-f578cb4cd042"
      },
      "execution_count": null,
      "outputs": [
        {
          "output_type": "stream",
          "name": "stdout",
          "text": [
            "[0, 2, 4, 6, 8, 10, 12, 14, 16, 18]\n"
          ]
        }
      ]
    },
    {
      "cell_type": "code",
      "source": [
        "liste = range(1,20)\n",
        "filter1 = filter(lambda sayi:sayi%3  ,liste)\n",
        "print(list(filter1))\n"
      ],
      "metadata": {
        "colab": {
          "base_uri": "https://localhost:8080/"
        },
        "id": "QLo-0XWeQmjq",
        "outputId": "6d6f792b-5c38-42f9-d01f-fcf5680b7023"
      },
      "execution_count": null,
      "outputs": [
        {
          "output_type": "stream",
          "name": "stdout",
          "text": [
            "[1, 2, 4, 5, 7, 8, 10, 11, 13, 14, 16, 17, 19]\n"
          ]
        }
      ]
    },
    {
      "cell_type": "code",
      "source": [
        "liste = range(1,20)\n",
        "filter1 = filter(lambda sayi:sayi%3==0  ,liste)\n",
        "print(list(filter1))"
      ],
      "metadata": {
        "colab": {
          "base_uri": "https://localhost:8080/"
        },
        "id": "2RBVicUXQmmZ",
        "outputId": "9a51e284-38f6-4945-88d2-db63787817bf"
      },
      "execution_count": null,
      "outputs": [
        {
          "output_type": "stream",
          "name": "stdout",
          "text": [
            "[3, 6, 9, 12, 15, 18]\n"
          ]
        }
      ]
    },
    {
      "cell_type": "code",
      "source": [
        "cümle= \"seni çok seviyorum\"\n",
        "cümle_dict = {}\n",
        "for i in cümle:\n",
        "  cümle_dict[i]=1\n",
        "  for i in cümle_dict:\n",
        "    cümle_dict[i] =cümle_dict[i] +1\n",
        "  \n",
        "print(cümle_dict)\n",
        "  \n",
        "  "
      ],
      "metadata": {
        "id": "iSarUkKcQmpb",
        "colab": {
          "base_uri": "https://localhost:8080/"
        },
        "outputId": "e476771c-2057-49ac-87b7-d5f597184449"
      },
      "execution_count": 16,
      "outputs": [
        {
          "output_type": "stream",
          "name": "stdout",
          "text": [
            "{'s': 10, 'e': 9, 'n': 17, 'i': 7, ' ': 11, 'ç': 14, 'o': 5, 'k': 12, 'v': 8, 'y': 6, 'r': 4, 'u': 3, 'm': 2}\n"
          ]
        }
      ]
    },
    {
      "cell_type": "code",
      "source": [
        "cümle= \"seni çok seviyorum\"\n",
        "cümle_dict = {}\n",
        "for i in cümle:\n",
        "  if i not in cümle_dict:\n",
        "    cümle_dict[i]=1\n",
        "  elif i in cümle_dict:\n",
        "    cümle_dict[i] =cümle_dict[i] +1\n",
        "  \n",
        "print(cümle_dict)"
      ],
      "metadata": {
        "id": "fb4SWRDvQmtu",
        "colab": {
          "base_uri": "https://localhost:8080/"
        },
        "outputId": "4fdce4e4-1f85-44a5-95f2-47141c377359"
      },
      "execution_count": 22,
      "outputs": [
        {
          "output_type": "stream",
          "name": "stdout",
          "text": [
            "{'s': 2, 'e': 2, 'n': 1, 'i': 2, ' ': 2, 'ç': 1, 'o': 2, 'k': 1, 'v': 1, 'y': 1, 'r': 1, 'u': 1, 'm': 1}\n"
          ]
        }
      ]
    },
    {
      "cell_type": "code",
      "source": [
        "cümle= \"hippo runs to us!\"\n",
        "cümle_dict = {}\n",
        "for i in cümle:\n",
        "  if i not in cümle_dict:\n",
        "    cümle_dict[i]=1\n",
        "  elif i in cümle_dict:\n",
        "    cümle_dict[i] =cümle_dict[i] +1\n",
        "  \n",
        "print(cümle_dict)"
      ],
      "metadata": {
        "id": "o0t5KiFzQmwu",
        "colab": {
          "base_uri": "https://localhost:8080/"
        },
        "outputId": "3e4f9fa7-5666-494e-8ac7-793d07c20763"
      },
      "execution_count": 21,
      "outputs": [
        {
          "output_type": "stream",
          "name": "stdout",
          "text": [
            "{'h': 1, 'i': 1, 'p': 2, 'o': 2, ' ': 3, 'r': 1, 'u': 2, 'n': 1, 's': 2, 't': 1, '!': 1}\n"
          ]
        }
      ]
    },
    {
      "cell_type": "code",
      "source": [
        "veri= [\"a\",\"b\",True, (False,1),{\"1\":2},[1,2],{\"2\":\"two\"},{2,\"3\"},\"c\",23,0]"
      ],
      "metadata": {
        "id": "ZrH2cAhJlgg5"
      },
      "execution_count": 23,
      "outputs": []
    },
    {
      "cell_type": "code",
      "source": [
        "veri_tip= []\n",
        "for i in veri:\n",
        "  veri_tip.append(type(i))\n",
        "print(veri_tip)"
      ],
      "metadata": {
        "colab": {
          "base_uri": "https://localhost:8080/"
        },
        "id": "TWrEFSdmlgkB",
        "outputId": "1a8cc7e1-ef79-48d9-ace5-72fc0661bf71"
      },
      "execution_count": 31,
      "outputs": [
        {
          "output_type": "stream",
          "name": "stdout",
          "text": [
            "[<class 'str'>, <class 'str'>, <class 'bool'>, <class 'tuple'>, <class 'dict'>, <class 'list'>, <class 'dict'>, <class 'set'>, <class 'str'>, <class 'int'>, <class 'int'>]\n"
          ]
        }
      ]
    },
    {
      "cell_type": "code",
      "source": [
        "veri= [\"a\",\"b\",True, (False,1),{\"1\":2},[1,2],{\"2\":\"two\"},{2,\"3\"},\"c\",23,0]\n",
        "#tipler=[\"int\",\"str\",\"bool\",\"list\",\"tuple\",\"dict\",\"set\"]\n",
        "dic_type={}\n",
        "for i in veri:\n",
        "    if type(i) in dic_type:\n",
        "      dic_type[type(i)] = dic_type[type(i)] +1\n",
        "    else:\n",
        "      dic_type[type(i)] =1\n",
        "print(dic_type)\n"
      ],
      "metadata": {
        "colab": {
          "base_uri": "https://localhost:8080/"
        },
        "id": "aX_D2Aa9lgmq",
        "outputId": "83f2b142-5246-4296-c070-0588bbe4ff66"
      },
      "execution_count": 42,
      "outputs": [
        {
          "output_type": "stream",
          "name": "stdout",
          "text": [
            "{<class 'str'>: 3, <class 'bool'>: 1, <class 'tuple'>: 1, <class 'dict'>: 2, <class 'list'>: 1, <class 'set'>: 1, <class 'int'>: 2}\n"
          ]
        }
      ]
    },
    {
      "cell_type": "code",
      "source": [
        "type(\"a\")"
      ],
      "metadata": {
        "colab": {
          "base_uri": "https://localhost:8080/"
        },
        "id": "m2D0hjqylgqd",
        "outputId": "a073ada8-c963-49bc-fa47-854d41afcbb8"
      },
      "execution_count": 39,
      "outputs": [
        {
          "output_type": "execute_result",
          "data": {
            "text/plain": [
              "str"
            ]
          },
          "metadata": {},
          "execution_count": 39
        }
      ]
    },
    {
      "cell_type": "code",
      "source": [
        ""
      ],
      "metadata": {
        "id": "O7FhkleatpqT"
      },
      "execution_count": null,
      "outputs": []
    },
    {
      "cell_type": "code",
      "source": [
        ""
      ],
      "metadata": {
        "id": "SNz5G9TUt36-"
      },
      "execution_count": null,
      "outputs": []
    },
    {
      "cell_type": "code",
      "source": [
        ""
      ],
      "metadata": {
        "id": "yKNQqVcjt390"
      },
      "execution_count": null,
      "outputs": []
    },
    {
      "cell_type": "code",
      "source": [
        ""
      ],
      "metadata": {
        "id": "U_MlyU3wt4AJ"
      },
      "execution_count": null,
      "outputs": []
    },
    {
      "cell_type": "code",
      "source": [
        ""
      ],
      "metadata": {
        "id": "kOY_6OgStpto"
      },
      "execution_count": null,
      "outputs": []
    },
    {
      "cell_type": "code",
      "source": [
        ""
      ],
      "metadata": {
        "id": "vma80tfOtpwD"
      },
      "execution_count": null,
      "outputs": []
    },
    {
      "cell_type": "code",
      "source": [
        ""
      ],
      "metadata": {
        "id": "E3mBtc40tpy1"
      },
      "execution_count": null,
      "outputs": []
    },
    {
      "cell_type": "code",
      "source": [
        ""
      ],
      "metadata": {
        "id": "IJ8x9vULtp6K"
      },
      "execution_count": null,
      "outputs": []
    },
    {
      "cell_type": "code",
      "source": [
        ""
      ],
      "metadata": {
        "id": "HwR_jrY0tp9P"
      },
      "execution_count": null,
      "outputs": []
    },
    {
      "cell_type": "code",
      "source": [
        ""
      ],
      "metadata": {
        "id": "9YzXb-DhtqCe"
      },
      "execution_count": null,
      "outputs": []
    },
    {
      "cell_type": "code",
      "source": [
        ""
      ],
      "metadata": {
        "id": "u4TS1InztqNK"
      },
      "execution_count": null,
      "outputs": []
    }
  ]
}