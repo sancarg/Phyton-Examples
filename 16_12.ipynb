{
  "nbformat": 4,
  "nbformat_minor": 0,
  "metadata": {
    "colab": {
      "name": "16.12.ipynb",
      "provenance": [],
      "collapsed_sections": [],
      "authorship_tag": "ABX9TyMaHmicjd5YY92uiK2n+6xa",
      "include_colab_link": true
    },
    "kernelspec": {
      "name": "python3",
      "display_name": "Python 3"
    },
    "language_info": {
      "name": "python"
    }
  },
  "cells": [
    {
      "cell_type": "markdown",
      "metadata": {
        "id": "view-in-github",
        "colab_type": "text"
      },
      "source": [
        "<a href=\"https://colab.research.google.com/github/glcn35/Phyton-Assignment/blob/main/16_12.ipynb\" target=\"_parent\"><img src=\"https://colab.research.google.com/assets/colab-badge.svg\" alt=\"Open In Colab\"/></a>"
      ]
    },
    {
      "cell_type": "code",
      "execution_count": null,
      "metadata": {
        "colab": {
          "base_uri": "https://localhost:8080/"
        },
        "id": "PaYDg1ItIYia",
        "outputId": "03dc0f6c-d52c-485e-fca6-89c7b35930c6"
      },
      "outputs": [
        {
          "output_type": "stream",
          "name": "stdout",
          "text": [
            "[1, 4, 9, 16, 25, 36, 49, 64, 81, 100]\n"
          ]
        }
      ],
      "source": [
        "liste =[1,2,3,4,5,6,7,8,9,10]\n",
        "def kareal(sayı):\n",
        "  return sayı**2\n",
        "\n",
        "map1=list(map(kareal,liste))\n",
        "print(map1)"
      ]
    },
    {
      "cell_type": "code",
      "source": [
        "liste =[1,2,3,4,5,6,7,8,9,10]\n",
        "def kareal(sayı):\n",
        "  return sayı**2\n",
        "\n",
        "map2=list(map(str,liste))\n",
        "print(map2)"
      ],
      "metadata": {
        "colab": {
          "base_uri": "https://localhost:8080/"
        },
        "id": "JWS4bBmoIaEP",
        "outputId": "e0dcf1a7-1fe5-4e62-953c-3905aaca0a94"
      },
      "execution_count": null,
      "outputs": [
        {
          "output_type": "stream",
          "name": "stdout",
          "text": [
            "['1', '2', '3', '4', '5', '6', '7', '8', '9', '10']\n"
          ]
        }
      ]
    },
    {
      "cell_type": "code",
      "source": [
        "liste1 = [1,3,5,9,7,6,8]\n",
        "liste2 = (6,8,7,9,4,6)\n",
        "liste3 = [8,4,9,3,1,5,9]\n",
        "map2 = map(lambda x,y,z:x*y*z,liste1,liste2,liste3)\n",
        "print(list(map2))"
      ],
      "metadata": {
        "colab": {
          "base_uri": "https://localhost:8080/"
        },
        "id": "kR3ZBw-6IaGl",
        "outputId": "8e77f984-d058-40e8-cd90-746b8ab9ae22"
      },
      "execution_count": null,
      "outputs": [
        {
          "output_type": "stream",
          "name": "stdout",
          "text": [
            "[48, 96, 315, 243, 28, 180]\n"
          ]
        }
      ]
    },
    {
      "cell_type": "code",
      "source": [
        "liste1 = [1,3,5,9,7,6,8]\n",
        "liste2 = [6,8,7,9,4,6]\n",
        "liste3 = [1,4,9,3,1,5,9]\n",
        "map2 = map(lambda x,y,z:x*y*z,liste1,liste2,str(liste3))\n",
        "print(list(map2))"
      ],
      "metadata": {
        "colab": {
          "base_uri": "https://localhost:8080/"
        },
        "id": "-LWt-EopIaJL",
        "outputId": "e9250dd4-2bcd-4f42-c128-c5e42cd4081f"
      },
      "execution_count": null,
      "outputs": [
        {
          "output_type": "stream",
          "name": "stdout",
          "text": [
            "['[[[[[[', '111111111111111111111111', ',,,,,,,,,,,,,,,,,,,,,,,,,,,,,,,,,,,', '                                                                                 ', '4444444444444444444444444444', ',,,,,,,,,,,,,,,,,,,,,,,,,,,,,,,,,,,,']\n"
          ]
        }
      ]
    },
    {
      "cell_type": "code",
      "source": [
        "liste3 = [1,4,9,3,1,5,9]\n",
        "liste3=map(str,liste3)\n",
        "list(liste3)"
      ],
      "metadata": {
        "colab": {
          "base_uri": "https://localhost:8080/"
        },
        "id": "DKgdgBQ2IaOX",
        "outputId": "49e3eee3-2a30-4d7a-bf9b-ea509c4c3562"
      },
      "execution_count": null,
      "outputs": [
        {
          "output_type": "execute_result",
          "data": {
            "text/plain": [
              "['1', '4', '9', '3', '1', '5', '9']"
            ]
          },
          "metadata": {},
          "execution_count": 17
        }
      ]
    },
    {
      "cell_type": "code",
      "source": [
        "liste1 = [1,3,5,9,7,6,8]\n",
        "liste2 = [6,8,7,9,4,6]\n",
        "liste3 = [1,4,9,3,1,5,9]\n",
        "map2 = map(lambda x,y,z:x*y*z,liste1,liste2,map(str,liste3))\n",
        "print(list(map2))"
      ],
      "metadata": {
        "colab": {
          "base_uri": "https://localhost:8080/"
        },
        "id": "vODBWR1uIaT1",
        "outputId": "744dacc8-2cbc-4525-f207-0ef842db9fe0"
      },
      "execution_count": null,
      "outputs": [
        {
          "output_type": "stream",
          "name": "stdout",
          "text": [
            "['111111', '444444444444444444444444', '99999999999999999999999999999999999', '333333333333333333333333333333333333333333333333333333333333333333333333333333333', '1111111111111111111111111111', '555555555555555555555555555555555555']\n"
          ]
        }
      ]
    },
    {
      "cell_type": "code",
      "source": [
        "liste = [1,2,3,4,5,6,7,8,9,10]\n",
        "def kareAl(sayi):\n",
        "    return sayi**2\n",
        "bosList=[]\n",
        "for i in liste:\n",
        "   bosList.append(kareAl(i))\n",
        "print(bosList)"
      ],
      "metadata": {
        "colab": {
          "base_uri": "https://localhost:8080/"
        },
        "id": "ImQLGX8TIaXV",
        "outputId": "596553e9-07af-4c04-9d35-586331ea1146"
      },
      "execution_count": null,
      "outputs": [
        {
          "output_type": "stream",
          "name": "stdout",
          "text": [
            "[1, 4, 9, 16, 25, 36, 49, 64, 81, 100]\n"
          ]
        }
      ]
    },
    {
      "cell_type": "code",
      "source": [
        "liste = [1,2,3,4,5,6,7,8,9,10]\n",
        "def kareAl(sayi):\n",
        "    return sayi**2\n",
        "for i in range(10):\n",
        "    a=kareAl(liste[i])\n",
        "    liste[i]=a\n",
        "print(liste)"
      ],
      "metadata": {
        "colab": {
          "base_uri": "https://localhost:8080/"
        },
        "id": "OdJsHintQmce",
        "outputId": "7ea917b5-bdc9-4446-ea13-4e94417eceae"
      },
      "execution_count": null,
      "outputs": [
        {
          "output_type": "stream",
          "name": "stdout",
          "text": [
            "[1, 4, 9, 16, 25, 36, 49, 64, 81, 100]\n"
          ]
        }
      ]
    },
    {
      "cell_type": "code",
      "source": [
        "liste = [1,2,3,4,5,6,7,8,9,10]\n",
        "def kareAl(sayi):\n",
        "    return sayi**2\n",
        "boslist=[]\n",
        "for i in range(10):\n",
        "    a=kareAl(liste[i])\n",
        "    boslist.insert(i,a)\n",
        "print(boslist)"
      ],
      "metadata": {
        "colab": {
          "base_uri": "https://localhost:8080/"
        },
        "id": "kAB0bDe5QmfC",
        "outputId": "9a9a07a7-66e2-4835-dcff-14f2ca3cfd62"
      },
      "execution_count": null,
      "outputs": [
        {
          "output_type": "stream",
          "name": "stdout",
          "text": [
            "[1, 4, 9, 16, 25, 36, 49, 64, 81, 100]\n"
          ]
        }
      ]
    },
    {
      "cell_type": "code",
      "source": [
        "liste = range(20)\n",
        "filter1 = filter(lambda sayi:sayi%2==0,liste)\n",
        "print(list(filter1))\n"
      ],
      "metadata": {
        "colab": {
          "base_uri": "https://localhost:8080/"
        },
        "id": "_DszXiq4Qmhr",
        "outputId": "e3b9904f-893a-4b21-a072-f578cb4cd042"
      },
      "execution_count": null,
      "outputs": [
        {
          "output_type": "stream",
          "name": "stdout",
          "text": [
            "[0, 2, 4, 6, 8, 10, 12, 14, 16, 18]\n"
          ]
        }
      ]
    },
    {
      "cell_type": "code",
      "source": [
        "liste = range(1,20)\n",
        "filter1 = filter(lambda sayi:sayi%3  ,liste)\n",
        "print(list(filter1))\n"
      ],
      "metadata": {
        "colab": {
          "base_uri": "https://localhost:8080/"
        },
        "id": "QLo-0XWeQmjq",
        "outputId": "6d6f792b-5c38-42f9-d01f-fcf5680b7023"
      },
      "execution_count": null,
      "outputs": [
        {
          "output_type": "stream",
          "name": "stdout",
          "text": [
            "[1, 2, 4, 5, 7, 8, 10, 11, 13, 14, 16, 17, 19]\n"
          ]
        }
      ]
    },
    {
      "cell_type": "code",
      "source": [
        "liste = range(1,20)\n",
        "filter1 = filter(lambda sayi:sayi%3==0  ,liste)\n",
        "print(list(filter1))"
      ],
      "metadata": {
        "colab": {
          "base_uri": "https://localhost:8080/"
        },
        "id": "2RBVicUXQmmZ",
        "outputId": "9a51e284-38f6-4945-88d2-db63787817bf"
      },
      "execution_count": null,
      "outputs": [
        {
          "output_type": "stream",
          "name": "stdout",
          "text": [
            "[3, 6, 9, 12, 15, 18]\n"
          ]
        }
      ]
    },
    {
      "cell_type": "code",
      "source": [
        "cümle= \"seni çok seviyorum\"\n",
        "cümle_dict = {}\n",
        "for i in cümle:\n",
        "  cümle_dict[i]=1\n",
        "  for i in cümle_dict:\n",
        "    cümle_dict[i] =cümle_dict[i] +1\n",
        "  \n",
        "print(cümle_dict)\n",
        "  \n",
        "  "
      ],
      "metadata": {
        "id": "iSarUkKcQmpb",
        "colab": {
          "base_uri": "https://localhost:8080/"
        },
        "outputId": "e476771c-2057-49ac-87b7-d5f597184449"
      },
      "execution_count": null,
      "outputs": [
        {
          "output_type": "stream",
          "name": "stdout",
          "text": [
            "{'s': 10, 'e': 9, 'n': 17, 'i': 7, ' ': 11, 'ç': 14, 'o': 5, 'k': 12, 'v': 8, 'y': 6, 'r': 4, 'u': 3, 'm': 2}\n"
          ]
        }
      ]
    },
    {
      "cell_type": "code",
      "source": [
        "cümle= \"seni çok seviyorum\"\n",
        "cümle_dict = {}\n",
        "for i in cümle:\n",
        "  if i not in cümle_dict:\n",
        "    cümle_dict[i]=1\n",
        "  elif i in cümle_dict:\n",
        "    cümle_dict[i] =cümle_dict[i] +1\n",
        "  \n",
        "print(cümle_dict)"
      ],
      "metadata": {
        "id": "fb4SWRDvQmtu",
        "colab": {
          "base_uri": "https://localhost:8080/"
        },
        "outputId": "4fdce4e4-1f85-44a5-95f2-47141c377359"
      },
      "execution_count": null,
      "outputs": [
        {
          "output_type": "stream",
          "name": "stdout",
          "text": [
            "{'s': 2, 'e': 2, 'n': 1, 'i': 2, ' ': 2, 'ç': 1, 'o': 2, 'k': 1, 'v': 1, 'y': 1, 'r': 1, 'u': 1, 'm': 1}\n"
          ]
        }
      ]
    },
    {
      "cell_type": "code",
      "source": [
        "cümle= \"hippo runs to us!\"\n",
        "cümle_dict = {}\n",
        "for i in cümle:\n",
        "  if i not in cümle_dict:\n",
        "    cümle_dict[i]=1\n",
        "  elif i in cümle_dict:\n",
        "    cümle_dict[i] =cümle_dict[i] +1\n",
        "  \n",
        "print(cümle_dict)"
      ],
      "metadata": {
        "id": "o0t5KiFzQmwu",
        "colab": {
          "base_uri": "https://localhost:8080/"
        },
        "outputId": "3e4f9fa7-5666-494e-8ac7-793d07c20763"
      },
      "execution_count": null,
      "outputs": [
        {
          "output_type": "stream",
          "name": "stdout",
          "text": [
            "{'h': 1, 'i': 1, 'p': 2, 'o': 2, ' ': 3, 'r': 1, 'u': 2, 'n': 1, 's': 2, 't': 1, '!': 1}\n"
          ]
        }
      ]
    },
    {
      "cell_type": "code",
      "source": [
        "veri= [\"a\",\"b\",True, (False,1),{\"1\":2},[1,2],{\"2\":\"two\"},{2,\"3\"},\"c\",23,0]"
      ],
      "metadata": {
        "id": "ZrH2cAhJlgg5"
      },
      "execution_count": null,
      "outputs": []
    },
    {
      "cell_type": "code",
      "source": [
        "veri_tip= []\n",
        "for i in veri:\n",
        "  veri_tip.append(type(i))\n",
        "print(veri_tip)"
      ],
      "metadata": {
        "colab": {
          "base_uri": "https://localhost:8080/"
        },
        "id": "TWrEFSdmlgkB",
        "outputId": "1a8cc7e1-ef79-48d9-ace5-72fc0661bf71"
      },
      "execution_count": null,
      "outputs": [
        {
          "output_type": "stream",
          "name": "stdout",
          "text": [
            "[<class 'str'>, <class 'str'>, <class 'bool'>, <class 'tuple'>, <class 'dict'>, <class 'list'>, <class 'dict'>, <class 'set'>, <class 'str'>, <class 'int'>, <class 'int'>]\n"
          ]
        }
      ]
    },
    {
      "cell_type": "code",
      "source": [
        "veri= [\"a\",\"b\",True, (False,1),{\"1\":2},[1,2],{\"2\":\"two\"},{2,\"3\"},\"c\",23,0]\n",
        "#tipler=[\"int\",\"str\",\"bool\",\"list\",\"tuple\",\"dict\",\"set\"]\n",
        "dic_type={}\n",
        "for i in veri:\n",
        "    if type(i) in dic_type:\n",
        "      dic_type[type(i)] = dic_type[type(i)] +1\n",
        "    else:\n",
        "      dic_type[type(i)] =1\n",
        "print(dic_type)\n"
      ],
      "metadata": {
        "colab": {
          "base_uri": "https://localhost:8080/"
        },
        "id": "aX_D2Aa9lgmq",
        "outputId": "83f2b142-5246-4296-c070-0588bbe4ff66"
      },
      "execution_count": null,
      "outputs": [
        {
          "output_type": "stream",
          "name": "stdout",
          "text": [
            "{<class 'str'>: 3, <class 'bool'>: 1, <class 'tuple'>: 1, <class 'dict'>: 2, <class 'list'>: 1, <class 'set'>: 1, <class 'int'>: 2}\n"
          ]
        }
      ]
    },
    {
      "cell_type": "code",
      "source": [
        "type(\"a\")"
      ],
      "metadata": {
        "colab": {
          "base_uri": "https://localhost:8080/"
        },
        "id": "m2D0hjqylgqd",
        "outputId": "a073ada8-c963-49bc-fa47-854d41afcbb8"
      },
      "execution_count": null,
      "outputs": [
        {
          "output_type": "execute_result",
          "data": {
            "text/plain": [
              "str"
            ]
          },
          "metadata": {},
          "execution_count": 39
        }
      ]
    },
    {
      "cell_type": "code",
      "source": [
        "import os\n"
      ],
      "metadata": {
        "id": "O7FhkleatpqT"
      },
      "execution_count": null,
      "outputs": []
    },
    {
      "cell_type": "code",
      "source": [
        "pwd"
      ],
      "metadata": {
        "id": "QdDuk5hiv1c2",
        "outputId": "34182a1b-a524-4a45-e79f-e57d5fe9a388",
        "colab": {
          "base_uri": "https://localhost:8080/",
          "height": 35
        }
      },
      "execution_count": null,
      "outputs": [
        {
          "output_type": "execute_result",
          "data": {
            "application/vnd.google.colaboratory.intrinsic+json": {
              "type": "string"
            },
            "text/plain": [
              "'/content'"
            ]
          },
          "metadata": {},
          "execution_count": 49
        }
      ]
    },
    {
      "cell_type": "code",
      "source": [
        "dosya_içeriği = os.listdir()\n",
        "dosya_içeriği"
      ],
      "metadata": {
        "colab": {
          "base_uri": "https://localhost:8080/",
          "height": 183
        },
        "id": "SNz5G9TUt36-",
        "outputId": "a68f3be5-4519-4fa5-fe36-4e36359af555"
      },
      "execution_count": 3,
      "outputs": [
        {
          "output_type": "error",
          "ename": "NameError",
          "evalue": "ignored",
          "traceback": [
            "\u001b[0;31m---------------------------------------------------------------------------\u001b[0m",
            "\u001b[0;31mNameError\u001b[0m                                 Traceback (most recent call last)",
            "\u001b[0;32m<ipython-input-3-338880a897e1>\u001b[0m in \u001b[0;36m<module>\u001b[0;34m()\u001b[0m\n\u001b[0;32m----> 1\u001b[0;31m \u001b[0mdosya_içeriği\u001b[0m \u001b[0;34m=\u001b[0m \u001b[0mos\u001b[0m\u001b[0;34m.\u001b[0m\u001b[0mlistdir\u001b[0m\u001b[0;34m(\u001b[0m\u001b[0;34m)\u001b[0m\u001b[0;34m\u001b[0m\u001b[0;34m\u001b[0m\u001b[0m\n\u001b[0m\u001b[1;32m      2\u001b[0m \u001b[0mdosya_içeriği\u001b[0m\u001b[0;34m\u001b[0m\u001b[0;34m\u001b[0m\u001b[0m\n",
            "\u001b[0;31mNameError\u001b[0m: name 'os' is not defined"
          ]
        }
      ]
    },
    {
      "cell_type": "code",
      "source": [
        "import shutil"
      ],
      "metadata": {
        "id": "yKNQqVcjt390"
      },
      "execution_count": null,
      "outputs": []
    },
    {
      "cell_type": "code",
      "source": [
        "shutil.make_archive(\"\")"
      ],
      "metadata": {
        "id": "U_MlyU3wt4AJ"
      },
      "execution_count": null,
      "outputs": []
    },
    {
      "cell_type": "code",
      "source": [
        "file = open(\"fishes.txt\",\"r\")\n",
        "print(file.read())\n",
        "\n",
        "file.close()"
      ],
      "metadata": {
        "id": "kOY_6OgStpto",
        "colab": {
          "base_uri": "https://localhost:8080/"
        },
        "outputId": "a5321eba-bb98-44ee-9b38-b3c0e501092b"
      },
      "execution_count": 13,
      "outputs": [
        {
          "output_type": "stream",
          "name": "stdout",
          "text": [
            "Orca is a kind of Dolphin.\n",
            "Blue Whale is the largest animal known on earth.\n",
            "Sharks are the sister group to the Rays (batoids).\n",
            "The Tuna Fish can weigh up to 260 kg.\n",
            "Squid and Octopus are in the same class.\n"
          ]
        }
      ]
    },
    {
      "cell_type": "code",
      "source": [
        "file= open(\"/content/fishes.txt\", \"r\",encoding=\"utf-8\")\n",
        "\n",
        "content= file.read()\n",
        "\n",
        "file.close()"
      ],
      "metadata": {
        "id": "vma80tfOtpwD"
      },
      "execution_count": 24,
      "outputs": []
    },
    {
      "cell_type": "code",
      "source": [
        "len(content)"
      ],
      "metadata": {
        "id": "E3mBtc40tpy1",
        "colab": {
          "base_uri": "https://localhost:8080/"
        },
        "outputId": "ef954d8c-c1ad-4cfb-ac95-15cadf39ae18"
      },
      "execution_count": 26,
      "outputs": [
        {
          "output_type": "execute_result",
          "data": {
            "text/plain": [
              "205"
            ]
          },
          "metadata": {},
          "execution_count": 26
        }
      ]
    },
    {
      "cell_type": "code",
      "source": [
        "content[:33]"
      ],
      "metadata": {
        "colab": {
          "base_uri": "https://localhost:8080/",
          "height": 35
        },
        "id": "Motjn7wZinPP",
        "outputId": "d85be12e-3ce3-4823-9779-acac9ba4dc46"
      },
      "execution_count": 25,
      "outputs": [
        {
          "output_type": "execute_result",
          "data": {
            "application/vnd.google.colaboratory.intrinsic+json": {
              "type": "string"
            },
            "text/plain": [
              "'Orca is a kind of Dolphin.\\nBlue W'"
            ]
          },
          "metadata": {},
          "execution_count": 25
        }
      ]
    },
    {
      "cell_type": "code",
      "source": [
        "file= open(\"fishes.txt\", \"r\")\n",
        "print(file.read(33))   #imleç nerde durursa oradan devam ediyor okumaya\n",
        "print(file.read(33))\n",
        "\n",
        "file.close()"
      ],
      "metadata": {
        "id": "IJ8x9vULtp6K",
        "colab": {
          "base_uri": "https://localhost:8080/"
        },
        "outputId": "d6f9be55-9c80-4b2d-eaaf-75bbf1d76e5e"
      },
      "execution_count": 18,
      "outputs": [
        {
          "output_type": "stream",
          "name": "stdout",
          "text": [
            "Orca is a kind of Dolphin.\n",
            "Blue W\n",
            "hale is the largest animal known \n"
          ]
        }
      ]
    },
    {
      "cell_type": "code",
      "source": [
        "file= open(\"fishes.txt\", \"r\")\n",
        "print(file.read(33))   #imleç nerde durursa oradan devam ediyor okumaya. seek ile imleç başa0 a döner\n",
        "print(file.read(33))\n",
        "\n",
        "file.seek(0)\n",
        "print(file.read(33))\n",
        "\n",
        "file.close()"
      ],
      "metadata": {
        "id": "HwR_jrY0tp9P",
        "colab": {
          "base_uri": "https://localhost:8080/"
        },
        "outputId": "d7d47155-c7ec-41f1-b803-50ab352c997e"
      },
      "execution_count": 19,
      "outputs": [
        {
          "output_type": "stream",
          "name": "stdout",
          "text": [
            "Orca is a kind of Dolphin.\n",
            "Blue W\n",
            "hale is the largest animal known \n",
            "Orca is a kind of Dolphin.\n",
            "Blue W\n"
          ]
        }
      ]
    },
    {
      "cell_type": "code",
      "source": [
        "file= open(\"fishes.txt\", \"r\")\n",
        "print(file.read(33))   #imleçin 33+15= 48 gider okur 49 da bekler imleç\n",
        "print(file.read(15))\n",
        "print(file.tell())\n",
        "file.seek(0)   #sonra başa aldık imleçi\n",
        "\n",
        "print(file.read(33))\n",
        "print(file.tell())   #34 de olur imleç\n",
        "\n",
        "\n",
        "file.close()"
      ],
      "metadata": {
        "id": "9YzXb-DhtqCe",
        "colab": {
          "base_uri": "https://localhost:8080/"
        },
        "outputId": "f787bb23-5fc0-458e-dfc8-11d7cfe002e2"
      },
      "execution_count": 22,
      "outputs": [
        {
          "output_type": "stream",
          "name": "stdout",
          "text": [
            "Orca is a kind of Dolphin.\n",
            "Blue W\n",
            "hale is the lar\n",
            "49\n",
            "Orca is a kind of Dolphin.\n",
            "Blue W\n",
            "34\n"
          ]
        }
      ]
    },
    {
      "cell_type": "code",
      "source": [
        "file = open(\"rumi.txt\",\"r\")\n",
        "print(file.read())\n",
        "\n",
        "file.close()"
      ],
      "metadata": {
        "id": "u4TS1InztqNK",
        "colab": {
          "base_uri": "https://localhost:8080/"
        },
        "outputId": "aa9dc0da-ec60-48fc-a6fb-168f310442ed"
      },
      "execution_count": 27,
      "outputs": [
        {
          "output_type": "stream",
          "name": "stdout",
          "text": [
            "I want to sing\n",
            "Like the birds sing,\n",
            "Not worrying about\n",
            "Who hears or\n",
            "What they think.\n"
          ]
        }
      ]
    },
    {
      "cell_type": "code",
      "source": [
        "rumi = open(\"rumi.txt\",\"r\", encoding=\"utf-8\")\n",
        "print(rumi.read(35))\n",
        "print(rumi.read(13))\n",
        "\n",
        "print(rumi.tell())\n",
        "rumi.seek(15)\n",
        "print(rumi.read(21))\n",
        "print(rumi.tell())\n",
        "file.close()"
      ],
      "metadata": {
        "colab": {
          "base_uri": "https://localhost:8080/"
        },
        "id": "3DjJCgoVkFoO",
        "outputId": "8ed4bafa-6f76-457c-a37b-f230019ba5e6"
      },
      "execution_count": 38,
      "outputs": [
        {
          "output_type": "stream",
          "name": "stdout",
          "text": [
            "I want to sing\n",
            "Like the birds sing,\n",
            "\n",
            "Not worrying\n",
            "50\n",
            "\n",
            "Like the birds sing,\n",
            "36\n"
          ]
        }
      ]
    },
    {
      "cell_type": "code",
      "source": [
        "sea= open(\"fishes.txt\", \"r\")\n",
        "\n",
        "print(sea.read())\n",
        "\n",
        "sea.close()"
      ],
      "metadata": {
        "colab": {
          "base_uri": "https://localhost:8080/"
        },
        "id": "IJiK-pBssRbk",
        "outputId": "a8a3e03b-ceaa-4dd3-bf15-5208eed9e099"
      },
      "execution_count": 45,
      "outputs": [
        {
          "output_type": "stream",
          "name": "stdout",
          "text": [
            "Orca is a kind of Dolphin.\n",
            "Blue Whale is the largest animal known on earth.\n",
            "Sharks are the sister group to the Rays (batoids).\n",
            "The Tuna Fish can weigh up to 260 kg.\n",
            "Squid and Octopus are in the same class.\n"
          ]
        }
      ]
    },
    {
      "cell_type": "code",
      "source": [
        "with open(\"rumi.txt\", \"r\") as file :\n",
        "  dosya = file.readlines()\n",
        "\n",
        "for line in range(len(dosya)) :\n",
        "  if line == 1 or line == 0 :\n",
        "    print(dosya[line])"
      ],
      "metadata": {
        "colab": {
          "base_uri": "https://localhost:8080/"
        },
        "id": "Z_TBXoR_yAqh",
        "outputId": "cc4a568b-f0f3-4d45-e8c0-005619c0961e"
      },
      "execution_count": 72,
      "outputs": [
        {
          "output_type": "stream",
          "name": "stdout",
          "text": [
            "I want to sing\n",
            "\n",
            "Like the birds sing,\n",
            "\n"
          ]
        }
      ]
    },
    {
      "cell_type": "code",
      "source": [
        "\n",
        "sea= open(\"fishes.txt\", \"r\")\n",
        "\n",
        "print(sea.readline())  \n",
        " #imleç nerde durursa oradan devam ediyor okumaya readline satır satır okur\n",
        "print(sea.readline())\n",
        "print(sea.readline(16))    #bu satırdaki 16 karakteri okur\n",
        "\n",
        "sea.close()"
      ],
      "metadata": {
        "colab": {
          "base_uri": "https://localhost:8080/"
        },
        "id": "Bp4hP4JfkFt-",
        "outputId": "70021b30-17eb-4446-af89-66312e3ac94b"
      },
      "execution_count": 44,
      "outputs": [
        {
          "output_type": "stream",
          "name": "stdout",
          "text": [
            "Orca is a kind of Dolphin.\n",
            "\n",
            "Blue Whale is the largest animal known on earth.\n",
            "\n",
            "Sharks are the s\n"
          ]
        }
      ]
    },
    {
      "cell_type": "code",
      "source": [
        "sea= open(\"fishes.txt\", \"r\")\n",
        "\n",
        "print(sea.readline(13))\n",
        "print(sea.readline(12))\n",
        "\n",
        "print(sea.readline(13))\n",
        "print(sea.readline(13))\n",
        "\n",
        "sea.close()"
      ],
      "metadata": {
        "colab": {
          "base_uri": "https://localhost:8080/"
        },
        "id": "2QcMt4zTsQbi",
        "outputId": "f65ce631-1a0e-4210-82f8-0e3eab305354"
      },
      "execution_count": 52,
      "outputs": [
        {
          "output_type": "stream",
          "name": "stdout",
          "text": [
            "Orca is a kin\n",
            "d of Dolphin\n",
            ".\n",
            "\n",
            "Blue Whale is\n"
          ]
        }
      ]
    },
    {
      "cell_type": "code",
      "source": [
        "sea= open(\"fishes.txt\", \"r\")\n",
        "\n",
        "part_1= sea.readline(13)\n",
        "part_2= sea.readline(13)\n",
        "part_3= sea.readline(13)\n",
        "part_4= sea.readline(13)\n",
        "\n",
        "sea.close()"
      ],
      "metadata": {
        "id": "-jBCCQiYsQel"
      },
      "execution_count": 53,
      "outputs": []
    },
    {
      "cell_type": "code",
      "source": [
        "part_1"
      ],
      "metadata": {
        "colab": {
          "base_uri": "https://localhost:8080/",
          "height": 35
        },
        "id": "gKUvKS0csQkF",
        "outputId": "980b781b-2ff1-425d-e4d0-40e27d459a48"
      },
      "execution_count": 54,
      "outputs": [
        {
          "output_type": "execute_result",
          "data": {
            "application/vnd.google.colaboratory.intrinsic+json": {
              "type": "string"
            },
            "text/plain": [
              "'Orca is a kin'"
            ]
          },
          "metadata": {},
          "execution_count": 54
        }
      ]
    },
    {
      "cell_type": "code",
      "source": [
        "part_2"
      ],
      "metadata": {
        "colab": {
          "base_uri": "https://localhost:8080/",
          "height": 35
        },
        "id": "Yk8AzLPTkF-s",
        "outputId": "06883469-c356-4b27-a8fb-1d02861b968b"
      },
      "execution_count": 55,
      "outputs": [
        {
          "output_type": "execute_result",
          "data": {
            "application/vnd.google.colaboratory.intrinsic+json": {
              "type": "string"
            },
            "text/plain": [
              "'d of Dolphin.'"
            ]
          },
          "metadata": {},
          "execution_count": 55
        }
      ]
    },
    {
      "cell_type": "code",
      "source": [
        "part_3"
      ],
      "metadata": {
        "colab": {
          "base_uri": "https://localhost:8080/",
          "height": 35
        },
        "id": "FeBLXZkmkGCG",
        "outputId": "c55c9368-b5db-48f0-86b6-945506b3b3ad"
      },
      "execution_count": 56,
      "outputs": [
        {
          "output_type": "execute_result",
          "data": {
            "application/vnd.google.colaboratory.intrinsic+json": {
              "type": "string"
            },
            "text/plain": [
              "'\\n'"
            ]
          },
          "metadata": {},
          "execution_count": 56
        }
      ]
    },
    {
      "cell_type": "code",
      "source": [
        "print(part_3)"
      ],
      "metadata": {
        "colab": {
          "base_uri": "https://localhost:8080/"
        },
        "id": "DgxnVwzukGE6",
        "outputId": "83cc6ab2-3a9e-4dab-8c21-8b125fd33cdb"
      },
      "execution_count": 57,
      "outputs": [
        {
          "output_type": "stream",
          "name": "stdout",
          "text": [
            "\n",
            "\n"
          ]
        }
      ]
    },
    {
      "cell_type": "code",
      "source": [
        "first_line= part_1 + part_2 + part_3\n",
        "first_line"
      ],
      "metadata": {
        "colab": {
          "base_uri": "https://localhost:8080/",
          "height": 35
        },
        "id": "pfpUBy6lkGH5",
        "outputId": "2b96a8cf-3d79-442a-9b7d-59e907c584c0"
      },
      "execution_count": 59,
      "outputs": [
        {
          "output_type": "execute_result",
          "data": {
            "application/vnd.google.colaboratory.intrinsic+json": {
              "type": "string"
            },
            "text/plain": [
              "'Orca is a kind of Dolphin.\\n'"
            ]
          },
          "metadata": {},
          "execution_count": 59
        }
      ]
    },
    {
      "cell_type": "code",
      "source": [
        "sea= open(\"fishes.txt\", \"r\")\n",
        "\n",
        "print(sea.readline(75)) \n",
        "\n",
        "\n",
        "sea.close()"
      ],
      "metadata": {
        "colab": {
          "base_uri": "https://localhost:8080/"
        },
        "id": "-QZ3RYCAuBy9",
        "outputId": "08a5fceb-c5b6-4f3b-fa70-bc60b86cb634"
      },
      "execution_count": 60,
      "outputs": [
        {
          "output_type": "stream",
          "name": "stdout",
          "text": [
            "Orca is a kind of Dolphin.\n",
            "\n"
          ]
        }
      ]
    },
    {
      "cell_type": "code",
      "source": [
        "rumi = open(\"rumi.txt\", \"r\", encoding=\"utf-8\")\n",
        "print(rumi.readline())\n",
        "print(rumi.readline())\n",
        "print(rumi.tell())\n",
        "print(rumi.readline(33))\n",
        "rumi.close()"
      ],
      "metadata": {
        "colab": {
          "base_uri": "https://localhost:8080/"
        },
        "id": "_7MuXrXBuB1y",
        "outputId": "a01483e3-cffa-4ecf-918f-1d2b9d0ae133"
      },
      "execution_count": 63,
      "outputs": [
        {
          "output_type": "stream",
          "name": "stdout",
          "text": [
            "I want to sing\n",
            "\n",
            "Like the birds sing,\n",
            "\n",
            "38\n",
            "Not worrying about\n",
            "\n"
          ]
        }
      ]
    },
    {
      "cell_type": "code",
      "source": [
        "sea= open(\"fishes.txt\", \"r\")\n",
        "\n",
        "print(sea.readlines())  #liste olarak çıktıyı veriyor, çok kullanışlı readlines \n",
        "\n",
        "\n",
        "sea.close()"
      ],
      "metadata": {
        "colab": {
          "base_uri": "https://localhost:8080/"
        },
        "id": "2ZKfpcuCuB7z",
        "outputId": "a21ede19-436d-4991-edc1-9292dce15bb0"
      },
      "execution_count": 64,
      "outputs": [
        {
          "output_type": "stream",
          "name": "stdout",
          "text": [
            "['Orca is a kind of Dolphin.\\n', 'Blue Whale is the largest animal known on earth.\\n', 'Sharks are the sister group to the Rays (batoids).\\n', 'The Tuna Fish can weigh up to 260 kg.\\n', 'Squid and Octopus are in the same class.']\n"
          ]
        }
      ]
    },
    {
      "cell_type": "code",
      "source": [
        "with open(\"fishes.txt\", \"r\") as file :                        #with ile kullanırsan close yapmana gerek kalmaz\n",
        "    fish=file.readlines()\n",
        "\n",
        "fish"
      ],
      "metadata": {
        "colab": {
          "base_uri": "https://localhost:8080/"
        },
        "id": "EyAkBU0AuCCW",
        "outputId": "ab73d1cb-eddf-420f-d6db-c52863058c0e"
      },
      "execution_count": 69,
      "outputs": [
        {
          "output_type": "execute_result",
          "data": {
            "text/plain": [
              "['Orca is a kind of Dolphin.\\n',\n",
              " 'Blue Whale is the largest animal known on earth.\\n',\n",
              " 'Sharks are the sister group to the Rays (batoids).\\n',\n",
              " 'The Tuna Fish can weigh up to 260 kg.\\n',\n",
              " 'Squid and Octopus are in the same class.']"
            ]
          },
          "metadata": {},
          "execution_count": 69
        }
      ]
    },
    {
      "cell_type": "code",
      "source": [
        "type(fish)"
      ],
      "metadata": {
        "colab": {
          "base_uri": "https://localhost:8080/"
        },
        "id": "h44BFNI3uCHM",
        "outputId": "5196847c-7a4c-4167-e3b4-f2ceda3a2c81"
      },
      "execution_count": 71,
      "outputs": [
        {
          "output_type": "execute_result",
          "data": {
            "text/plain": [
              "list"
            ]
          },
          "metadata": {},
          "execution_count": 71
        }
      ]
    },
    {
      "cell_type": "code",
      "source": [
        "with open(\"rumi.txt\", \"r\") as file:\n",
        "   rumi= file.readlines()"
      ],
      "metadata": {
        "id": "Ddd29p7Hx2Z6"
      },
      "execution_count": 74,
      "outputs": []
    },
    {
      "cell_type": "code",
      "source": [
        "rumi"
      ],
      "metadata": {
        "colab": {
          "base_uri": "https://localhost:8080/"
        },
        "id": "SekOX3JIx2cw",
        "outputId": "b9d5a959-36ce-4149-a418-ea2d6592d35c"
      },
      "execution_count": 75,
      "outputs": [
        {
          "output_type": "execute_result",
          "data": {
            "text/plain": [
              "['I want to sing\\n',\n",
              " 'Like the birds sing,\\n',\n",
              " 'Not worrying about\\n',\n",
              " 'Who hears or\\n',\n",
              " 'What they think.']"
            ]
          },
          "metadata": {},
          "execution_count": 75
        }
      ]
    },
    {
      "cell_type": "code",
      "source": [
        "with open(\"fishes.txt\", \"r\") as file :\n",
        "   for line "
      ],
      "metadata": {
        "id": "KHHR26OHx2f4"
      },
      "execution_count": null,
      "outputs": []
    },
    {
      "cell_type": "markdown",
      "source": [
        "Python'da bir dosyayı okumak için dosyayı okuma \"r\" modunda açmalıyız.\n",
        "Verileri size sayısı kadar okumak için read(size) yöntemini kullanabiliriz. Size parametresi belirtilmezse dosyayı okur ve dosyanın sonuna kadar döner.\n",
        "f = open(\"test.txt\",'r',encoding = 'utf-8')\n",
        "\n",
        " f.read(4)    # read the first 4 data\n",
        "\n",
        " f.read()     # read in the rest till end of file\n",
        "Bir dosyanın tek tek satırlarını okumak için readline() metodu kullanılılr. Bu metod newline karakteri içeren bir newline a kadar bir dosyayı okur."
      ],
      "metadata": {
        "id": "TpxjPFP-8yZS"
      }
    },
    {
      "cell_type": "code",
      "source": [
        "with open(\"dummy_file.txt\", 'w', encoding=\"utf-8\") as file:  \n",
        "# we create and open the file #w ile yeni oluşturup üzerine yazdırdık alttaki satırı\n",
        "\n",
        "    file.write('This is the first line of my text file')  \n",
        "    # writes str data into file\n",
        "\n",
        "with open(\"dummy_file.txt\", 'r', encoding=\"utf-8\") as file:\n",
        "    print(file.read())  # reads the content of the 'dummy_file'"
      ],
      "metadata": {
        "colab": {
          "base_uri": "https://localhost:8080/"
        },
        "id": "AtyAl7-4x2k4",
        "outputId": "fdf61f5d-575f-475a-f96c-9f311f9d0aa0"
      },
      "execution_count": 76,
      "outputs": [
        {
          "output_type": "stream",
          "name": "stdout",
          "text": [
            "This is the first line of my text file\n"
          ]
        }
      ]
    },
    {
      "cell_type": "code",
      "source": [
        "ls"
      ],
      "metadata": {
        "colab": {
          "base_uri": "https://localhost:8080/"
        },
        "id": "JJ3rOlUtx2qF",
        "outputId": "7c545913-4ed1-4f6e-a801-f1f9dee39c29"
      },
      "execution_count": 77,
      "outputs": [
        {
          "output_type": "stream",
          "name": "stdout",
          "text": [
            "dummy_file.txt  fishes.txt  rumi.txt  \u001b[0m\u001b[01;34msample_data\u001b[0m/\n"
          ]
        }
      ]
    },
    {
      "cell_type": "code",
      "source": [
        "with open(\"dummy_file.txt\", 'w', encoding=\"utf-8\") as file:\n",
        "    file.write('This is the new line for my dummy_file')    #firstline gitti yerine newline cümlesi geldi. eskisini silip yerine yazdırır.\n",
        "    # we write new str data into it \n",
        "\n",
        "with open(\"dummy_file.txt\", 'r', encoding=\"utf-8\") as file:\n",
        "    print(file.read())  # reads the content of the 'dummy_file'"
      ],
      "metadata": {
        "colab": {
          "base_uri": "https://localhost:8080/"
        },
        "id": "UsZwhL0_3oqC",
        "outputId": "7ca7a849-acbe-4cb3-bd34-7f208fdc4e0c"
      },
      "execution_count": 78,
      "outputs": [
        {
          "output_type": "stream",
          "name": "stdout",
          "text": [
            "This is the new line for my dummy_file\n"
          ]
        }
      ]
    },
    {
      "cell_type": "code",
      "source": [
        "cat dummy_file.txt"
      ],
      "metadata": {
        "colab": {
          "base_uri": "https://localhost:8080/"
        },
        "id": "Q8rn82ms3owN",
        "outputId": "f08b983f-5653-4716-d4d5-00a9b652073b"
      },
      "execution_count": 79,
      "outputs": [
        {
          "output_type": "stream",
          "name": "stdout",
          "text": [
            "This is the new line for my dummy_file"
          ]
        }
      ]
    },
    {
      "cell_type": "code",
      "source": [
        "echo >> \"nasılsın\" dummy_file.txt"
      ],
      "metadata": {
        "colab": {
          "base_uri": "https://localhost:8080/",
          "height": 131
        },
        "id": "AJf12d-a3oz-",
        "outputId": "366d6c26-1328-4a81-bdc5-a4427c4621ff"
      },
      "execution_count": 81,
      "outputs": [
        {
          "output_type": "error",
          "ename": "SyntaxError",
          "evalue": "ignored",
          "traceback": [
            "\u001b[0;36m  File \u001b[0;32m\"<ipython-input-81-5d4f733d3e96>\"\u001b[0;36m, line \u001b[0;32m1\u001b[0m\n\u001b[0;31m    echo >> \"nasılsın\" dummy_file.txt\u001b[0m\n\u001b[0m                                ^\u001b[0m\n\u001b[0;31mSyntaxError\u001b[0m\u001b[0;31m:\u001b[0m invalid syntax\n"
          ]
        }
      ]
    },
    {
      "cell_type": "code",
      "source": [
        "fruits = ['Banana', 'Orange', 'Apple', 'Strawberry', 'Cherry']"
      ],
      "metadata": {
        "id": "7SOeyeVB3pAK"
      },
      "execution_count": 82,
      "outputs": []
    },
    {
      "cell_type": "code",
      "source": [
        "with open(\"fruits.txt\", \"w\", encoding=\"utf-8\") as dosyam:\n",
        "    for sepet in fruits:\n",
        "      dosyam.write(sepet +\"\\n\") \n",
        "\n",
        "with open(\"fruits.txt\", \"r\") as file:\n",
        "   print(file.read())"
      ],
      "metadata": {
        "colab": {
          "base_uri": "https://localhost:8080/"
        },
        "id": "OjQ0CGelx2uK",
        "outputId": "dc5ace8f-2627-4795-b424-b0d1d9bcb893"
      },
      "execution_count": 84,
      "outputs": [
        {
          "output_type": "stream",
          "name": "stdout",
          "text": [
            "Banana\n",
            "Orange\n",
            "Apple\n",
            "Strawberry\n",
            "Cherry\n",
            "\n"
          ]
        }
      ]
    },
    {
      "cell_type": "code",
      "source": [
        "with open(\"fruits.txt\", \"r\") as file:\n",
        "   fruits_2= file.readlines()"
      ],
      "metadata": {
        "id": "ARReskmhx2xJ"
      },
      "execution_count": 88,
      "outputs": []
    },
    {
      "cell_type": "code",
      "source": [
        "fruits_2"
      ],
      "metadata": {
        "colab": {
          "base_uri": "https://localhost:8080/"
        },
        "id": "B8YbUxeX7gTV",
        "outputId": "54391c42-f745-400b-e4f1-4938af8c2c76"
      },
      "execution_count": 89,
      "outputs": [
        {
          "output_type": "execute_result",
          "data": {
            "text/plain": [
              "['Banana\\n', 'Orange\\n', 'Apple\\n', 'Strawberry\\n', 'Cherry\\n']"
            ]
          },
          "metadata": {},
          "execution_count": 89
        }
      ]
    },
    {
      "cell_type": "code",
      "source": [
        "with open(\"fruits.txt\", \"r\") as file:\n",
        "   print(file.readline())\n",
        "   print(file.readline())\n",
        "   print(file.readline())"
      ],
      "metadata": {
        "colab": {
          "base_uri": "https://localhost:8080/"
        },
        "id": "bh9EY6cH62cT",
        "outputId": "ff06fc53-fc4a-4fe1-c723-93b0ce3fde24"
      },
      "execution_count": 87,
      "outputs": [
        {
          "output_type": "stream",
          "name": "stdout",
          "text": [
            "Banana\n",
            "\n",
            "Orange\n",
            "\n",
            "Apple\n",
            "\n"
          ]
        }
      ]
    },
    {
      "cell_type": "code",
      "source": [
        "with open(\"fruits2.txt\", \"w\", encoding=\"utf-8\") as fff:\n",
        "  fff.writelines(fruits_2)"
      ],
      "metadata": {
        "id": "Vk7UP1oE62fr"
      },
      "execution_count": 90,
      "outputs": []
    },
    {
      "cell_type": "code",
      "source": [
        "with open(\"fruits2.txt\", \"r\", encoding=\"utf-8\") as fff:\n",
        "  print(fff.read())"
      ],
      "metadata": {
        "colab": {
          "base_uri": "https://localhost:8080/"
        },
        "id": "fnJ1V05i62jy",
        "outputId": "7c3935d3-474f-439f-e16f-3ed3aab3d054"
      },
      "execution_count": 91,
      "outputs": [
        {
          "output_type": "stream",
          "name": "stdout",
          "text": [
            "Banana\n",
            "Orange\n",
            "Apple\n",
            "Strawberry\n",
            "Cherry\n",
            "\n"
          ]
        }
      ]
    },
    {
      "cell_type": "code",
      "source": [
        "with open(\"fruits2.txt\", \"a\", encoding=\"utf-8\") as fff:\n",
        "  fff.writelines(fruits_2)   # a ile append yapar mevcut dosyaya ekler"
      ],
      "metadata": {
        "id": "xHRJN_jZ7xOZ"
      },
      "execution_count": 92,
      "outputs": []
    },
    {
      "cell_type": "code",
      "source": [
        "with open(\"fruits2.txt\", \"r\", encoding=\"utf-8\") as fff:\n",
        "  print(fff.read())"
      ],
      "metadata": {
        "colab": {
          "base_uri": "https://localhost:8080/"
        },
        "id": "Y_2y3oG47xRW",
        "outputId": "d26026d3-f788-4ac5-b6ab-155c1c46f7dc"
      },
      "execution_count": 94,
      "outputs": [
        {
          "output_type": "stream",
          "name": "stdout",
          "text": [
            "Banana\n",
            "Orange\n",
            "Apple\n",
            "Strawberry\n",
            "Cherry\n",
            "Banana\n",
            "Orange\n",
            "Apple\n",
            "Strawberry\n",
            "Cherry\n",
            "\n"
          ]
        }
      ]
    },
    {
      "cell_type": "code",
      "source": [
        "fruits3= fruits_2 + [\"lemon\"]\n",
        "fruits3"
      ],
      "metadata": {
        "colab": {
          "base_uri": "https://localhost:8080/"
        },
        "id": "hh3QnLVK7xUM",
        "outputId": "58569e7f-0c2a-439a-e4cc-cd83b4e74d80"
      },
      "execution_count": 96,
      "outputs": [
        {
          "output_type": "execute_result",
          "data": {
            "text/plain": [
              "['Banana\\n', 'Orange\\n', 'Apple\\n', 'Strawberry\\n', 'Cherry\\n', 'lemon']"
            ]
          },
          "metadata": {},
          "execution_count": 96
        }
      ]
    },
    {
      "cell_type": "code",
      "source": [
        "with open(\"istiklal.txt\", \"r\" , encoding =\"utf-8\") as marş:\n",
        "  print(marş.read())"
      ],
      "metadata": {
        "colab": {
          "base_uri": "https://localhost:8080/"
        },
        "id": "Azjl5nGh8LQ9",
        "outputId": "bf23c358-caa9-4bc7-f2d1-25a14b02d7ec"
      },
      "execution_count": 105,
      "outputs": [
        {
          "output_type": "stream",
          "name": "stdout",
          "text": [
            "Korkma, sönmez bu şafaklarda yüzen al sancak;\n",
            "Sönmeden yurdumun üstünde tüten en son ocak.\n",
            "O benim milletimin yıldızıdır, parlayacak;\n",
            "O benimdir, o benim milletimindir ancak.\n",
            "Çatma, kurban olayım, çehreni ey nazlı hilal!\n",
            "Kahraman ırkıma bir gül! Ne bu şiddet, bu celal?\n",
            "Sana olmaz dökülen kanlarımız sonra helal...\n",
            "Hakkıdır, hakk'a tapan, milletimin istiklal!\n",
            "Ben ezelden beridir hür yaşadım, hür yaşarım.\n",
            "Hangi çılgın bana zincir vuracakmış? Şaşarım!\n",
            "Kükremiş sel gibiyim, bendimi çiğner, aşarım.\n",
            "Yırtarım dağları, enginlere sığmam, taşarım.\n",
            "Garbın afakını sarmışsa çelik zırhlı duvar,\n",
            "Benim iman dolu göğsüm gibi serhaddim var.\n",
            "Ulusun, korkma! Nasıl böyle bir imanı boğar,\n",
            "'Medeniyet!' dediğin tek dişi kalmış canavar?\n",
            "Arkadaş! Yurduma alçakları uğratma, sakın.\n",
            "Siper et gövdeni, dursun bu hayasızca akın.\n",
            "Doğacaktır sana va'dettigi günler hakk'ın...\n",
            "Kim bilir, belki yarın, belki yarından da yakın.\n",
            "Bastığın yerleri 'toprak!' diyerek geçme, tanı:\n",
            "Düşün altında binlerce kefensiz yatanı.\n",
            "Sen şehit oğlusun, incitme, yazıktır, atanı:\n",
            "Verme, dünyaları alsan da, bu cennet vatanı.\n",
            "Kim bu cennet vatanın uğruna olmaz ki feda?\n",
            "Şuheda fışkıracak toprağı sıksan, şuheda!\n",
            "Canı, cananı, bütün varımı alsın da hüda,\n",
            "Etmesin tek vatanımdan beni dünyada cüda.\n",
            "Ruhumun senden, ilahi, şudur ancak emeli:\n",
            "Değmesin mabedimin göğsüne namahrem eli.\n",
            "Bu ezanlar-ki şahadetleri dinin temeli,\n",
            "Ebedi yurdumun üstünde benim inlemeli.\n",
            "\n"
          ]
        }
      ]
    },
    {
      "cell_type": "code",
      "source": [
        "with open(\"istiklal.txt\", \"r\" , encoding =\"utf-8\") as marş:\n",
        "  lines= marş.readlines()\n"
      ],
      "metadata": {
        "id": "SBdnxQmZ_YmC"
      },
      "execution_count": 117,
      "outputs": []
    },
    {
      "cell_type": "code",
      "source": [
        "lines"
      ],
      "metadata": {
        "colab": {
          "base_uri": "https://localhost:8080/"
        },
        "id": "Tpr32k5R_f4B",
        "outputId": "823c4aa0-e001-4d43-83fe-105220c15c2c"
      },
      "execution_count": 118,
      "outputs": [
        {
          "output_type": "execute_result",
          "data": {
            "text/plain": [
              "['Korkma, sönmez bu şafaklarda yüzen al sancak;\\n',\n",
              " 'Sönmeden yurdumun üstünde tüten en son ocak.\\n',\n",
              " 'O benim milletimin yıldızıdır, parlayacak;\\n',\n",
              " 'O benimdir, o benim milletimindir ancak.\\n',\n",
              " 'Çatma, kurban olayım, çehreni ey nazlı hilal!\\n',\n",
              " 'Kahraman ırkıma bir gül! Ne bu şiddet, bu celal?\\n',\n",
              " 'Sana olmaz dökülen kanlarımız sonra helal...\\n',\n",
              " \"Hakkıdır, hakk'a tapan, milletimin istiklal!\\n\",\n",
              " 'Ben ezelden beridir hür yaşadım, hür yaşarım.\\n',\n",
              " 'Hangi çılgın bana zincir vuracakmış? Şaşarım!\\n',\n",
              " 'Kükremiş sel gibiyim, bendimi çiğner, aşarım.\\n',\n",
              " 'Yırtarım dağları, enginlere sığmam, taşarım.\\n',\n",
              " 'Garbın afakını sarmışsa çelik zırhlı duvar,\\n',\n",
              " 'Benim iman dolu göğsüm gibi serhaddim var.\\n',\n",
              " 'Ulusun, korkma! Nasıl böyle bir imanı boğar,\\n',\n",
              " \"'Medeniyet!' dediğin tek dişi kalmış canavar?\\n\",\n",
              " 'Arkadaş! Yurduma alçakları uğratma, sakın.\\n',\n",
              " 'Siper et gövdeni, dursun bu hayasızca akın.\\n',\n",
              " \"Doğacaktır sana va'dettigi günler hakk'ın...\\n\",\n",
              " 'Kim bilir, belki yarın, belki yarından da yakın.\\n',\n",
              " \"Bastığın yerleri 'toprak!' diyerek geçme, tanı:\\n\",\n",
              " 'Düşün altında binlerce kefensiz yatanı.\\n',\n",
              " 'Sen şehit oğlusun, incitme, yazıktır, atanı:\\n',\n",
              " 'Verme, dünyaları alsan da, bu cennet vatanı.\\n',\n",
              " 'Kim bu cennet vatanın uğruna olmaz ki feda?\\n',\n",
              " 'Şuheda fışkıracak toprağı sıksan, şuheda!\\n',\n",
              " 'Canı, cananı, bütün varımı alsın da hüda,\\n',\n",
              " 'Etmesin tek vatanımdan beni dünyada cüda.\\n',\n",
              " 'Ruhumun senden, ilahi, şudur ancak emeli:\\n',\n",
              " 'Değmesin mabedimin göğsüne namahrem eli.\\n',\n",
              " 'Bu ezanlar-ki şahadetleri dinin temeli,\\n',\n",
              " 'Ebedi yurdumun üstünde benim inlemeli.\\n']"
            ]
          },
          "metadata": {},
          "execution_count": 118
        }
      ]
    },
    {
      "cell_type": "code",
      "source": [
        "counter=0 \n",
        "with open(\"istiklal.txt\", \"w\", encoding=\"utf-8\") as file:\n",
        "  for i in lines:\n",
        "    counter +=1\n",
        "    if counter %4==0:\n",
        "      file.write(i +\"\\n\")\n",
        "    else:\n",
        "      file.write(i)\n"
      ],
      "metadata": {
        "id": "h1udpymO_t3c"
      },
      "execution_count": 121,
      "outputs": []
    },
    {
      "cell_type": "code",
      "source": [
        " \n",
        "with open(\"istiklal.txt\", \"w\", encoding=\"utf-8\") as file:\n",
        "  for i in lines:\n",
        "   \n",
        "    if [i]%4==0:\n",
        "      file.write(i +\"\\n\")\n",
        "    else:\n",
        "      file.write(i)"
      ],
      "metadata": {
        "colab": {
          "base_uri": "https://localhost:8080/",
          "height": 235
        },
        "id": "wBNH-FSLAtiW",
        "outputId": "46f00d68-176e-4b8e-c3d3-c13ce25058e6"
      },
      "execution_count": 124,
      "outputs": [
        {
          "output_type": "error",
          "ename": "TypeError",
          "evalue": "ignored",
          "traceback": [
            "\u001b[0;31m---------------------------------------------------------------------------\u001b[0m",
            "\u001b[0;31mTypeError\u001b[0m                                 Traceback (most recent call last)",
            "\u001b[0;32m<ipython-input-124-faef6124a8a4>\u001b[0m in \u001b[0;36m<module>\u001b[0;34m()\u001b[0m\n\u001b[1;32m      3\u001b[0m  \u001b[0;32mfor\u001b[0m \u001b[0mi\u001b[0m \u001b[0;32min\u001b[0m \u001b[0mlines\u001b[0m\u001b[0;34m:\u001b[0m\u001b[0;34m\u001b[0m\u001b[0;34m\u001b[0m\u001b[0m\n\u001b[1;32m      4\u001b[0m \u001b[0;34m\u001b[0m\u001b[0m\n\u001b[0;32m----> 5\u001b[0;31m    \u001b[0;32mif\u001b[0m \u001b[0;34m[\u001b[0m\u001b[0mi\u001b[0m\u001b[0;34m]\u001b[0m\u001b[0;34m%\u001b[0m\u001b[0;36m4\u001b[0m\u001b[0;34m==\u001b[0m\u001b[0;36m0\u001b[0m\u001b[0;34m:\u001b[0m\u001b[0;34m\u001b[0m\u001b[0;34m\u001b[0m\u001b[0m\n\u001b[0m\u001b[1;32m      6\u001b[0m      \u001b[0mfile\u001b[0m\u001b[0;34m.\u001b[0m\u001b[0mwrite\u001b[0m\u001b[0;34m(\u001b[0m\u001b[0mi\u001b[0m \u001b[0;34m+\u001b[0m\u001b[0;34m\"\\n\"\u001b[0m\u001b[0;34m)\u001b[0m\u001b[0;34m\u001b[0m\u001b[0;34m\u001b[0m\u001b[0m\n\u001b[1;32m      7\u001b[0m    \u001b[0;32melse\u001b[0m\u001b[0;34m:\u001b[0m\u001b[0;34m\u001b[0m\u001b[0;34m\u001b[0m\u001b[0m\n",
            "\u001b[0;31mTypeError\u001b[0m: unsupported operand type(s) for %: 'list' and 'int'"
          ]
        }
      ]
    },
    {
      "cell_type": "code",
      "source": [
        "\n",
        "with open(\"istiklal.txt\", \"r\", encoding=\"utf-8\") as f:\n",
        "  print(f.read())"
      ],
      "metadata": {
        "colab": {
          "base_uri": "https://localhost:8080/"
        },
        "id": "g2ZrrDmcAcpM",
        "outputId": "bb27056c-3c88-4a5e-afc9-740c585317ef"
      },
      "execution_count": 122,
      "outputs": [
        {
          "output_type": "stream",
          "name": "stdout",
          "text": [
            "Korkma, sönmez bu şafaklarda yüzen al sancak;\n",
            "Sönmeden yurdumun üstünde tüten en son ocak.\n",
            "O benim milletimin yıldızıdır, parlayacak;\n",
            "O benimdir, o benim milletimindir ancak.\n",
            "\n",
            "Çatma, kurban olayım, çehreni ey nazlı hilal!\n",
            "Kahraman ırkıma bir gül! Ne bu şiddet, bu celal?\n",
            "Sana olmaz dökülen kanlarımız sonra helal...\n",
            "Hakkıdır, hakk'a tapan, milletimin istiklal!\n",
            "\n",
            "Ben ezelden beridir hür yaşadım, hür yaşarım.\n",
            "Hangi çılgın bana zincir vuracakmış? Şaşarım!\n",
            "Kükremiş sel gibiyim, bendimi çiğner, aşarım.\n",
            "Yırtarım dağları, enginlere sığmam, taşarım.\n",
            "\n",
            "Garbın afakını sarmışsa çelik zırhlı duvar,\n",
            "Benim iman dolu göğsüm gibi serhaddim var.\n",
            "Ulusun, korkma! Nasıl böyle bir imanı boğar,\n",
            "'Medeniyet!' dediğin tek dişi kalmış canavar?\n",
            "\n",
            "Arkadaş! Yurduma alçakları uğratma, sakın.\n",
            "Siper et gövdeni, dursun bu hayasızca akın.\n",
            "Doğacaktır sana va'dettigi günler hakk'ın...\n",
            "Kim bilir, belki yarın, belki yarından da yakın.\n",
            "\n",
            "Bastığın yerleri 'toprak!' diyerek geçme, tanı:\n",
            "Düşün altında binlerce kefensiz yatanı.\n",
            "Sen şehit oğlusun, incitme, yazıktır, atanı:\n",
            "Verme, dünyaları alsan da, bu cennet vatanı.\n",
            "\n",
            "Kim bu cennet vatanın uğruna olmaz ki feda?\n",
            "Şuheda fışkıracak toprağı sıksan, şuheda!\n",
            "Canı, cananı, bütün varımı alsın da hüda,\n",
            "Etmesin tek vatanımdan beni dünyada cüda.\n",
            "\n",
            "Ruhumun senden, ilahi, şudur ancak emeli:\n",
            "Değmesin mabedimin göğsüne namahrem eli.\n",
            "Bu ezanlar-ki şahadetleri dinin temeli,\n",
            "Ebedi yurdumun üstünde benim inlemeli.\n",
            "\n",
            "\n"
          ]
        }
      ]
    },
    {
      "cell_type": "code",
      "source": [
        ""
      ],
      "metadata": {
        "id": "Udp-bzO-8LUC"
      },
      "execution_count": 122,
      "outputs": []
    },
    {
      "cell_type": "code",
      "source": [
        ""
      ],
      "metadata": {
        "id": "VUT_WAYq8LWt"
      },
      "execution_count": null,
      "outputs": []
    },
    {
      "cell_type": "code",
      "source": [
        ""
      ],
      "metadata": {
        "id": "NbEfS72k8LZk"
      },
      "execution_count": null,
      "outputs": []
    },
    {
      "cell_type": "code",
      "source": [
        ""
      ],
      "metadata": {
        "id": "gkctBqml7xWm"
      },
      "execution_count": null,
      "outputs": []
    },
    {
      "cell_type": "code",
      "source": [
        ""
      ],
      "metadata": {
        "id": "-eBmbItY7xaM"
      },
      "execution_count": null,
      "outputs": []
    }
  ]
}