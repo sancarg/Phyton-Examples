{
  "nbformat": 4,
  "nbformat_minor": 0,
  "metadata": {
    "colab": {
      "name": "29.11.ipynb",
      "provenance": [],
      "collapsed_sections": [],
      "authorship_tag": "ABX9TyPFLcb24fLdllETJ5Smzqyp"
    },
    "kernelspec": {
      "name": "python3",
      "display_name": "Python 3"
    },
    "language_info": {
      "name": "python"
    }
  },
  "cells": [
    {
      "cell_type": "markdown",
      "metadata": {
        "id": "dOiHFxOl6jGN"
      },
      "source": [
        "LAMBDA"
      ]
    },
    {
      "cell_type": "code",
      "metadata": {
        "colab": {
          "base_uri": "https://localhost:8080/"
        },
        "id": "A-PYsqq04UGR",
        "outputId": "e57c21dc-d3ca-4866-db80-b48f9943feda"
      },
      "source": [
        "lambda x : \"odd\" if x%2 != 0 else \"even\""
      ],
      "execution_count": null,
      "outputs": [
        {
          "output_type": "execute_result",
          "data": {
            "text/plain": [
              "<function __main__.<lambda>>"
            ]
          },
          "metadata": {},
          "execution_count": 1
        }
      ]
    },
    {
      "cell_type": "code",
      "metadata": {
        "colab": {
          "base_uri": "https://localhost:8080/",
          "height": 36
        },
        "id": "Ca-VKqyg4USl",
        "outputId": "83dbb5e6-c8f9-4510-9729-641fae51ddff"
      },
      "source": [
        "(lambda x : \"odd\" if x%2 != 0 else \"even\")(2)"
      ],
      "execution_count": null,
      "outputs": [
        {
          "output_type": "execute_result",
          "data": {
            "application/vnd.google.colaboratory.intrinsic+json": {
              "type": "string"
            },
            "text/plain": [
              "'even'"
            ]
          },
          "metadata": {},
          "execution_count": 2
        }
      ]
    },
    {
      "cell_type": "code",
      "metadata": {
        "colab": {
          "base_uri": "https://localhost:8080/",
          "height": 36
        },
        "id": "OynL26rm4UVQ",
        "outputId": "d15ff289-e1af-4751-b871-711f3cbca0fb"
      },
      "source": [
        "(lambda x : \"odd\" if x%2 != 0 else \"even\")(5)"
      ],
      "execution_count": null,
      "outputs": [
        {
          "output_type": "execute_result",
          "data": {
            "application/vnd.google.colaboratory.intrinsic+json": {
              "type": "string"
            },
            "text/plain": [
              "'odd'"
            ]
          },
          "metadata": {},
          "execution_count": 3
        }
      ]
    },
    {
      "cell_type": "code",
      "metadata": {
        "colab": {
          "base_uri": "https://localhost:8080/",
          "height": 36
        },
        "id": "4TWEkuO44UbN",
        "outputId": "0633d8e0-635c-4ded-c206-fc9d95f7bd28"
      },
      "source": [
        "(lambda string :  string[::-1])(\"ali\")"
      ],
      "execution_count": null,
      "outputs": [
        {
          "output_type": "execute_result",
          "data": {
            "application/vnd.google.colaboratory.intrinsic+json": {
              "type": "string"
            },
            "text/plain": [
              "'ila'"
            ]
          },
          "metadata": {},
          "execution_count": 10
        }
      ]
    },
    {
      "cell_type": "code",
      "metadata": {
        "colab": {
          "base_uri": "https://localhost:8080/",
          "height": 36
        },
        "id": "LtFClCb-4UeK",
        "outputId": "f5c9ad88-51cd-40b6-a491-1fd0bf0cfb57"
      },
      "source": [
        "(lambda x: x[::-1])(\"ali\")"
      ],
      "execution_count": null,
      "outputs": [
        {
          "output_type": "execute_result",
          "data": {
            "application/vnd.google.colaboratory.intrinsic+json": {
              "type": "string"
            },
            "text/plain": [
              "'ila'"
            ]
          },
          "metadata": {},
          "execution_count": 11
        }
      ]
    },
    {
      "cell_type": "code",
      "metadata": {
        "colab": {
          "base_uri": "https://localhost:8080/"
        },
        "id": "E2sUXC1Q4UhR",
        "outputId": "f0b2d57e-a16b-43a8-8042-33896e83fb4e"
      },
      "source": [
        "(lambda x, y: (x +y)/2 )(3,5)"
      ],
      "execution_count": null,
      "outputs": [
        {
          "output_type": "execute_result",
          "data": {
            "text/plain": [
              "4.0"
            ]
          },
          "metadata": {},
          "execution_count": 12
        }
      ]
    },
    {
      "cell_type": "code",
      "metadata": {
        "id": "sqyBouKT4UkQ"
      },
      "source": [
        "average = (lambda x, y: (x +y)/2 )(3,5)   #değişkene atama"
      ],
      "execution_count": null,
      "outputs": []
    },
    {
      "cell_type": "code",
      "metadata": {
        "colab": {
          "base_uri": "https://localhost:8080/"
        },
        "id": "3t3JC8cX4UnQ",
        "outputId": "0232a782-3166-49fc-d74f-56a87599df38"
      },
      "source": [
        "print(average)"
      ],
      "execution_count": null,
      "outputs": [
        {
          "output_type": "stream",
          "name": "stdout",
          "text": [
            "4.0\n"
          ]
        }
      ]
    },
    {
      "cell_type": "code",
      "metadata": {
        "colab": {
          "base_uri": "https://localhost:8080/"
        },
        "id": "zdcTA30I4UqO",
        "outputId": "466f7375-6c32-4de6-eacb-8dca92239890"
      },
      "source": [
        "sayılar  =[1,2,3,4]\n",
        "for a in sayılar:\n",
        "  print(a, \":\", (lambda x: \"even \" if x%2 ==0 else \"odd\")(a))\n"
      ],
      "execution_count": null,
      "outputs": [
        {
          "output_type": "stream",
          "name": "stdout",
          "text": [
            "1 : odd\n",
            "2 : even \n",
            "3 : odd\n",
            "4 : even \n"
          ]
        }
      ]
    },
    {
      "cell_type": "code",
      "metadata": {
        "colab": {
          "base_uri": "https://localhost:8080/"
        },
        "id": "i5MDVtDi_PYN",
        "outputId": "fe6dc52f-e69f-40fa-e4b2-ccb106f5d292"
      },
      "source": [
        "finder = lambda x : \"odd\" if x%2 != 0 else \"even\"\n",
        "print(finder(5))"
      ],
      "execution_count": null,
      "outputs": [
        {
          "output_type": "stream",
          "name": "stdout",
          "text": [
            "odd\n"
          ]
        }
      ]
    },
    {
      "cell_type": "code",
      "metadata": {
        "id": "-CEJLvcR_PeZ"
      },
      "source": [
        "reverser = lambda x: x[::-1]"
      ],
      "execution_count": null,
      "outputs": []
    },
    {
      "cell_type": "code",
      "metadata": {
        "colab": {
          "base_uri": "https://localhost:8080/"
        },
        "id": "vglrFfbS_PhV",
        "outputId": "aa433dba-4910-4600-917f-db26da1203a1"
      },
      "source": [
        "reverser([1,2,3,4])"
      ],
      "execution_count": null,
      "outputs": [
        {
          "output_type": "execute_result",
          "data": {
            "text/plain": [
              "[4, 3, 2, 1]"
            ]
          },
          "metadata": {},
          "execution_count": 34
        }
      ]
    },
    {
      "cell_type": "code",
      "metadata": {
        "colab": {
          "base_uri": "https://localhost:8080/"
        },
        "id": "HJ0YgOAu_PkK",
        "outputId": "163ad71e-7506-4fa1-c14e-058b2729d4c4"
      },
      "source": [
        "list(map(lambda x: x**2,[1,2,3]))"
      ],
      "execution_count": null,
      "outputs": [
        {
          "output_type": "execute_result",
          "data": {
            "text/plain": [
              "[1, 4, 9]"
            ]
          },
          "metadata": {},
          "execution_count": 36
        }
      ]
    },
    {
      "cell_type": "code",
      "metadata": {
        "colab": {
          "base_uri": "https://localhost:8080/"
        },
        "id": "sz1wS9SX_Pmv",
        "outputId": "dd70a90c-3a78-440f-c177-24d337adc075"
      },
      "source": [
        "tuple(map(lambda x: x**2,[1,2,3]))"
      ],
      "execution_count": null,
      "outputs": [
        {
          "output_type": "execute_result",
          "data": {
            "text/plain": [
              "(1, 4, 9)"
            ]
          },
          "metadata": {},
          "execution_count": 37
        }
      ]
    },
    {
      "cell_type": "code",
      "metadata": {
        "colab": {
          "base_uri": "https://localhost:8080/"
        },
        "id": "ls8OCjoH_Pp7",
        "outputId": "f6ebe9f0-fffc-4a54-cdeb-34ae9418da58"
      },
      "source": [
        "set(map(lambda x: x**2,[1,2,3]))"
      ],
      "execution_count": null,
      "outputs": [
        {
          "output_type": "execute_result",
          "data": {
            "text/plain": [
              "{1, 4, 9}"
            ]
          },
          "metadata": {},
          "execution_count": 38
        }
      ]
    },
    {
      "cell_type": "code",
      "metadata": {
        "colab": {
          "base_uri": "https://localhost:8080/"
        },
        "id": "IIwlaC7g_PtB",
        "outputId": "d76288bc-79a2-4e77-a3af-289675d35537"
      },
      "source": [
        "sonuç = map(lambda x: x**2,[1,2,3])\n",
        "print(*sonuç)"
      ],
      "execution_count": null,
      "outputs": [
        {
          "output_type": "stream",
          "name": "stdout",
          "text": [
            "1 4 9\n"
          ]
        }
      ]
    },
    {
      "cell_type": "code",
      "metadata": {
        "id": "MERkb2Iu_PxD"
      },
      "source": [
        "iterable =[1,2,3,4,5]\n",
        "def kare(b):\n",
        "  return b **2\n"
      ],
      "execution_count": null,
      "outputs": []
    },
    {
      "cell_type": "code",
      "metadata": {
        "colab": {
          "base_uri": "https://localhost:8080/"
        },
        "id": "ZA2-wDt1BbpR",
        "outputId": "c55e2092-13bd-4870-f6c2-4c6ada714c12"
      },
      "source": [
        "sonuç2 = map(kare, iterable)\n",
        "print(*sonuç2)"
      ],
      "execution_count": null,
      "outputs": [
        {
          "output_type": "stream",
          "name": "stdout",
          "text": [
            "1 4 9 16 25\n"
          ]
        }
      ]
    },
    {
      "cell_type": "code",
      "metadata": {
        "colab": {
          "base_uri": "https://localhost:8080/"
        },
        "id": "XGBom7SVBbvH",
        "outputId": "072735cc-a3a2-480a-c457-4257ae5940b0"
      },
      "source": [
        "list(map(lambda x,y: x+y**2,[1,2,3] ,[4,5]))"
      ],
      "execution_count": null,
      "outputs": [
        {
          "output_type": "execute_result",
          "data": {
            "text/plain": [
              "[17, 27]"
            ]
          },
          "metadata": {},
          "execution_count": 47
        }
      ]
    },
    {
      "cell_type": "code",
      "metadata": {
        "colab": {
          "base_uri": "https://localhost:8080/"
        },
        "id": "QnKDnU-3Bb5j",
        "outputId": "bd3f1df6-8045-4af1-cfde-192b2b6e3eec"
      },
      "source": [
        "letter1 =[\"o\",\"s\",\"t\"]\n",
        "letter2 =[\"n\",\"i\",\"w\"]\n",
        "letter3= [\"e\",\"x\",\"o\"]\n",
        "numbers= map(lambda x,y,z: x+y+z,letter1,letter2,letter3)\n",
        "print(list(numbers))"
      ],
      "execution_count": null,
      "outputs": [
        {
          "output_type": "stream",
          "name": "stdout",
          "text": [
            "['one', 'six', 'two']\n"
          ]
        }
      ]
    },
    {
      "cell_type": "code",
      "metadata": {
        "colab": {
          "base_uri": "https://localhost:8080/"
        },
        "id": "ivL-5UU2Bb9K",
        "outputId": "b9b46ed9-b025-49ca-b4bd-05ae6378f856"
      },
      "source": [
        "nums1= [9,6,7,4]\n",
        "nums2= [3,6,5,8]\n",
        "ort = map(lambda x,y:(x+y)/2,nums1,nums2)\n",
        "print(list(ort))"
      ],
      "execution_count": null,
      "outputs": [
        {
          "output_type": "stream",
          "name": "stdout",
          "text": [
            "[6.0, 6.0, 6.0, 6.0]\n"
          ]
        }
      ]
    },
    {
      "cell_type": "code",
      "metadata": {
        "id": "i9zrowMiBb_9"
      },
      "source": [
        "words1= [\"you\", \"much\",\"hard\"]\n",
        "words2=[\"ı\",\"you\",\"he\"]\n",
        "words3=[\"love\",\"ate\",\"works\"]"
      ],
      "execution_count": null,
      "outputs": []
    },
    {
      "cell_type": "code",
      "metadata": {
        "colab": {
          "base_uri": "https://localhost:8080/"
        },
        "id": "Cc5XvCGyIhKT",
        "outputId": "b73f5bc5-89e2-4a81-aeeb-484770b1743c"
      },
      "source": [
        "cümle =lambda x,y,z: y+\" \"+ z+\" \"+ x \n",
        "\n",
        "print(list(map(cümle,words1,words2,words3)) , sep=\"\\n\")"
      ],
      "execution_count": null,
      "outputs": [
        {
          "output_type": "stream",
          "name": "stdout",
          "text": [
            "['ı love you', 'you ate much', 'he works hard']\n"
          ]
        }
      ]
    },
    {
      "cell_type": "code",
      "metadata": {
        "colab": {
          "base_uri": "https://localhost:8080/"
        },
        "id": "2DR_xbnVIhNG",
        "outputId": "b0ca329d-ef85-408c-b1f0-2fdbdb3da143"
      },
      "source": [
        "words= [\"apple\",\"swim\",\"clock\",\"me\",\"kiwi\",\"banana\"]\n",
        "filter(lambda x : len(x) <= 5,words)"
      ],
      "execution_count": null,
      "outputs": [
        {
          "output_type": "execute_result",
          "data": {
            "text/plain": [
              "<filter at 0x7f3346477b90>"
            ]
          },
          "metadata": {},
          "execution_count": 71
        }
      ]
    },
    {
      "cell_type": "code",
      "metadata": {
        "colab": {
          "base_uri": "https://localhost:8080/"
        },
        "id": "VdlYB9IYIhP-",
        "outputId": "775f1262-5bec-40a7-9c9b-c251c4b80143"
      },
      "source": [
        "words= [\"apple\",\"swim\",\"clock\",\"me\",\"kiwi\",\"banana\"]\n",
        "print(list(filter(lambda x : len(x) < 5,words)))"
      ],
      "execution_count": null,
      "outputs": [
        {
          "output_type": "stream",
          "name": "stdout",
          "text": [
            "['swim', 'me', 'kiwi']\n"
          ]
        }
      ]
    },
    {
      "cell_type": "code",
      "metadata": {
        "colab": {
          "base_uri": "https://localhost:8080/"
        },
        "id": "Mv8p814HIhWL",
        "outputId": "1a5a850b-c1ea-4db7-d1ad-e9cd14b4903e"
      },
      "source": [
        "for i in filter(lambda x : len(x) < 5,words):\n",
        "  print(i)"
      ],
      "execution_count": null,
      "outputs": [
        {
          "output_type": "stream",
          "name": "stdout",
          "text": [
            "swim\n",
            "me\n",
            "kiwi\n"
          ]
        }
      ]
    },
    {
      "cell_type": "code",
      "metadata": {
        "id": "b-q6LtDMBcC7"
      },
      "source": [
        "vowel_list=[\"a\",\"e\",\"i\",\"o\",\"u\"]\n",
        "first_ten=[\"a\",\"b\",\"c\",\"d\",\"e\",\"f\",\"g\",\"h\",\"i\",\"j\"]"
      ],
      "execution_count": null,
      "outputs": []
    },
    {
      "cell_type": "code",
      "metadata": {
        "colab": {
          "base_uri": "https://localhost:8080/"
        },
        "id": "imi75PxnTxF1",
        "outputId": "6545509c-69b3-47be-f54d-200f1f246f14"
      },
      "source": [
        "filter(lambda x : x in vowel_list,first_ten)"
      ],
      "execution_count": null,
      "outputs": [
        {
          "output_type": "execute_result",
          "data": {
            "text/plain": [
              "<filter at 0x7f334645bbd0>"
            ]
          },
          "metadata": {},
          "execution_count": 75
        }
      ]
    },
    {
      "cell_type": "code",
      "metadata": {
        "colab": {
          "base_uri": "https://localhost:8080/"
        },
        "id": "H6CR8MCmTxJ0",
        "outputId": "1c7f7451-ded7-44ba-9ccf-faa3e6f4d100"
      },
      "source": [
        "print(*filter(lambda x : x in vowel_list,first_ten))"
      ],
      "execution_count": null,
      "outputs": [
        {
          "output_type": "stream",
          "name": "stdout",
          "text": [
            "a e i\n"
          ]
        }
      ]
    },
    {
      "cell_type": "code",
      "metadata": {
        "id": "uv7UrissTxMr"
      },
      "source": [
        "def moduler(n):\n",
        "    return lambda x:x**n"
      ],
      "execution_count": null,
      "outputs": []
    },
    {
      "cell_type": "code",
      "metadata": {
        "colab": {
          "base_uri": "https://localhost:8080/"
        },
        "id": "Ut-8D9sKTxPx",
        "outputId": "837cd735-2b06-4358-c82f-af3f6b3c80c8"
      },
      "source": [
        "karesini_al = moduler(2)\n",
        "karesini_al(3)"
      ],
      "execution_count": null,
      "outputs": [
        {
          "output_type": "execute_result",
          "data": {
            "text/plain": [
              "9"
            ]
          },
          "metadata": {},
          "execution_count": 80
        }
      ]
    },
    {
      "cell_type": "code",
      "metadata": {
        "colab": {
          "base_uri": "https://localhost:8080/"
        },
        "id": "Do18iDZXTxTu",
        "outputId": "6e45a6ea-1799-4d55-bb26-ebcd53a85a19"
      },
      "source": [
        "karesini_al(5)"
      ],
      "execution_count": null,
      "outputs": [
        {
          "output_type": "execute_result",
          "data": {
            "text/plain": [
              "25"
            ]
          },
          "metadata": {},
          "execution_count": 81
        }
      ]
    },
    {
      "cell_type": "code",
      "metadata": {
        "id": "zGLbs9T6XaRS"
      },
      "source": [
        "küpünü_al = moduler(3)"
      ],
      "execution_count": null,
      "outputs": []
    },
    {
      "cell_type": "code",
      "metadata": {
        "colab": {
          "base_uri": "https://localhost:8080/"
        },
        "id": "_W1E2FmGXaUK",
        "outputId": "b24188d7-6ef1-42f9-ffd8-d1212bc8d10a"
      },
      "source": [
        "küpünü_al(5)"
      ],
      "execution_count": null,
      "outputs": [
        {
          "output_type": "execute_result",
          "data": {
            "text/plain": [
              "125"
            ]
          },
          "metadata": {},
          "execution_count": 84
        }
      ]
    },
    {
      "cell_type": "code",
      "metadata": {
        "colab": {
          "base_uri": "https://localhost:8080/"
        },
        "id": "GPFtLZdEXlDN",
        "outputId": "91f14238-e259-4358-8201-ba52119f9053"
      },
      "source": [
        "def emoji(n):\n",
        "  return lambda x: x + n\n",
        "myprint_smile = emoji(\":)\")\n",
        "myprint_sad= emoji(\":(\")\n",
        "print(myprint_smile(\"hello\"))\n",
        "print(myprint_sad(\"hello\"))"
      ],
      "execution_count": null,
      "outputs": [
        {
          "output_type": "stream",
          "name": "stdout",
          "text": [
            "hello:)\n",
            "hello:(\n"
          ]
        }
      ]
    },
    {
      "cell_type": "code",
      "metadata": {
        "colab": {
          "base_uri": "https://localhost:8080/"
        },
        "id": "VHuVrWsxaijp",
        "outputId": "847b6e18-490b-47ce-ae30-80cf659d5ea0"
      },
      "source": [
        "print(gülcan_zip(5,6), (5,0))"
      ],
      "execution_count": null,
      "outputs": [
        {
          "output_type": "stream",
          "name": "stdout",
          "text": [
            "<function gülcan_zip.<locals>.<lambda> at 0x7f3346430050> (5, 0)\n"
          ]
        }
      ]
    },
    {
      "cell_type": "code",
      "metadata": {
        "colab": {
          "base_uri": "https://localhost:8080/"
        },
        "id": "M509B4Czaimr",
        "outputId": "82593d02-852f-4398-96aa-84543d231a95"
      },
      "source": [
        "(lambda x: max(x))((1,2,3))"
      ],
      "execution_count": null,
      "outputs": [
        {
          "output_type": "execute_result",
          "data": {
            "text/plain": [
              "3"
            ]
          },
          "metadata": {},
          "execution_count": 127
        }
      ]
    },
    {
      "cell_type": "code",
      "metadata": {
        "id": "izIPeB3paitZ"
      },
      "source": [
        "def function_generator(function_name):\n",
        "    return lambda x : function_name(x)\n",
        "gülcan_max = function_generator(max)\n",
        "gülcan_sorted = function_generator(sorted)"
      ],
      "execution_count": null,
      "outputs": []
    },
    {
      "cell_type": "code",
      "metadata": {
        "colab": {
          "base_uri": "https://localhost:8080/"
        },
        "id": "lQJREpX4XaXW",
        "outputId": "9a904e45-e4ea-4c8b-caa3-cab8161dc9e3"
      },
      "source": [
        "gülcan_max((2,4,7))"
      ],
      "execution_count": null,
      "outputs": [
        {
          "output_type": "execute_result",
          "data": {
            "text/plain": [
              "7"
            ]
          },
          "metadata": {},
          "execution_count": 140
        }
      ]
    },
    {
      "cell_type": "code",
      "metadata": {
        "id": "IJSf9bf1Xad6"
      },
      "source": [
        ""
      ],
      "execution_count": null,
      "outputs": []
    },
    {
      "cell_type": "code",
      "metadata": {
        "id": "f7hMPpwuXahi"
      },
      "source": [
        ""
      ],
      "execution_count": null,
      "outputs": []
    }
  ]
}