{
  "nbformat": 4,
  "nbformat_minor": 0,
  "metadata": {
    "colab": {
      "name": "Exercise_178.ipynb",
      "provenance": [],
      "collapsed_sections": [],
      "authorship_tag": "ABX9TyNqU5B8z1+/gNYQUVIupuk6",
      "include_colab_link": true
    },
    "kernelspec": {
      "name": "python3",
      "display_name": "Python 3"
    },
    "language_info": {
      "name": "python"
    }
  },
  "cells": [
    {
      "cell_type": "markdown",
      "metadata": {
        "id": "view-in-github",
        "colab_type": "text"
      },
      "source": [
        "<a href=\"https://colab.research.google.com/github/glcn35/Phyton-Assignment/blob/main/Exercise_178.ipynb\" target=\"_parent\"><img src=\"https://colab.research.google.com/assets/colab-badge.svg\" alt=\"Open In Colab\"/></a>"
      ]
    },
    {
      "cell_type": "code",
      "source": [
        "num1= list(map(int,input(\"pozitif bir sayı ve kuvvetini giriniz:\").split()))\n",
        "num2= list(map(int,input(\"pozitif bir sayı ve kuvvetini giriniz:\").split()))"
      ],
      "metadata": {
        "colab": {
          "base_uri": "https://localhost:8080/"
        },
        "id": "4ADKrWFJDdQJ",
        "outputId": "7906b0ed-4559-49e8-ede6-877c2e44cb86"
      },
      "execution_count": 33,
      "outputs": [
        {
          "name": "stdout",
          "output_type": "stream",
          "text": [
            "pozitif bir sayı ve kuvvetini giriniz:3 5\n",
            "pozitif bir sayı ve kuvvetini giriniz:2 5\n"
          ]
        }
      ]
    },
    {
      "cell_type": "code",
      "source": [
        "num1,num2"
      ],
      "metadata": {
        "colab": {
          "base_uri": "https://localhost:8080/"
        },
        "id": "TJUQuUv0DdSq",
        "outputId": "008971b9-803c-445f-993e-de6262cfb7d3"
      },
      "execution_count": 34,
      "outputs": [
        {
          "output_type": "execute_result",
          "data": {
            "text/plain": [
              "([3, 5], [2, 5])"
            ]
          },
          "metadata": {},
          "execution_count": 34
        }
      ]
    },
    {
      "cell_type": "code",
      "source": [
        "num1= list(map(int,input(\"pozitif bir sayı ve kuvvetini giriniz:\").split()))\n",
        "num2= list(map(int,input(\"pozitif bir sayı ve kuvvetini giriniz:\").split()))\n",
        "compare_powers=[num1,num2]\n",
        "power=[]\n",
        "for i in compare_powers:\n",
        "    i=i[0]**i[1]\n",
        "    power.append(i)\n",
        "if power[0]>power[1]:\n",
        "   print(f\"compare_powers({num1},{num2}) ==1\")\n",
        "elif power[0]<power[1]:\n",
        "   print(f\"compare_powers({num1},{num2}) ==-1\")\n",
        "else:\n",
        "    print(f\"compare_powers({num1},{num2}) ==0\")\n"
      ],
      "metadata": {
        "colab": {
          "base_uri": "https://localhost:8080/"
        },
        "id": "DeLQkR_HDdVg",
        "outputId": "39c761b2-9ed6-4cc0-8736-55ecc0909b93"
      },
      "execution_count": 9,
      "outputs": [
        {
          "output_type": "stream",
          "name": "stdout",
          "text": [
            "pozitif bir sayı ve kuvvetini giriniz:5 6\n",
            "pozitif bir sayı ve kuvvetini giriniz:4 7\n",
            "15625\n",
            "16384\n",
            "compare_powers([5, 6],[4, 7]) ==-1\n"
          ]
        }
      ]
    },
    {
      "cell_type": "code",
      "source": [
        "def compare_powers(a,b):\n",
        "  num1 , num2 =a[0]**a[1] ,b[0]**b[1] \n",
        "  return -1 if num1>num2 else 1 if num1<num2 else 0\n",
        "\n",
        "compare_powers([5,6],[4,7])\n"
      ],
      "metadata": {
        "colab": {
          "base_uri": "https://localhost:8080/"
        },
        "id": "3vzBffpoGVhO",
        "outputId": "b61eb725-4903-4f87-9824-3f666b3a792d"
      },
      "execution_count": 23,
      "outputs": [
        {
          "output_type": "execute_result",
          "data": {
            "text/plain": [
              "1"
            ]
          },
          "metadata": {},
          "execution_count": 23
        }
      ]
    },
    {
      "cell_type": "code",
      "source": [
        "def compare_powers(a,b):\n",
        "  num1 , num2 =a[0]**a[1] ,b[0]**b[1] \n",
        "  return -1 if num1>num2 else 1 if num1<num2 else 0\n",
        "\n",
        "compare_powers([7,7],[5,8])"
      ],
      "metadata": {
        "colab": {
          "base_uri": "https://localhost:8080/"
        },
        "id": "hUWdQXRrP02n",
        "outputId": "96176e38-640f-4a24-a777-70fd4f3f715d"
      },
      "execution_count": 25,
      "outputs": [
        {
          "output_type": "execute_result",
          "data": {
            "text/plain": [
              "-1"
            ]
          },
          "metadata": {},
          "execution_count": 25
        }
      ]
    },
    {
      "cell_type": "code",
      "source": [
        "compare_powers([2,10],[2,10]]"
      ],
      "metadata": {
        "colab": {
          "base_uri": "https://localhost:8080/"
        },
        "id": "n3KzTN9UOp0D",
        "outputId": "b69ab998-2244-4c11-9b0e-3a81cd27f86a"
      },
      "execution_count": 16,
      "outputs": [
        {
          "output_type": "execute_result",
          "data": {
            "text/plain": [
              "0"
            ]
          },
          "metadata": {},
          "execution_count": 16
        }
      ]
    },
    {
      "cell_type": "code",
      "source": [
        "compare_powers([3,10],[2,10])"
      ],
      "metadata": {
        "colab": {
          "base_uri": "https://localhost:8080/"
        },
        "id": "IUMdeHpeOp3l",
        "outputId": "a32d9823-5ded-4cd6-c23f-38b9dbb488ca"
      },
      "execution_count": 17,
      "outputs": [
        {
          "output_type": "execute_result",
          "data": {
            "text/plain": [
              "1"
            ]
          },
          "metadata": {},
          "execution_count": 17
        }
      ]
    },
    {
      "cell_type": "code",
      "source": [
        "compare_powers([2400, 4800],[3000, 4000])"
      ],
      "metadata": {
        "colab": {
          "base_uri": "https://localhost:8080/"
        },
        "id": "7AupPI4vOp67",
        "outputId": "366f2c4d-47f5-472e-e212-1dccd3b352f5"
      },
      "execution_count": 21,
      "outputs": [
        {
          "output_type": "execute_result",
          "data": {
            "text/plain": [
              "-1"
            ]
          },
          "metadata": {},
          "execution_count": 21
        }
      ]
    },
    {
      "cell_type": "markdown",
      "source": [
        "\n",
        "\n"
      ],
      "metadata": {
        "id": "ebsho9lHa7Bd"
      }
    },
    {
      "cell_type": "code",
      "source": [
        ""
      ],
      "metadata": {
        "id": "eU7hF5lgSoyU"
      },
      "execution_count": 51,
      "outputs": []
    },
    {
      "cell_type": "code",
      "source": [
        ""
      ],
      "metadata": {
        "id": "2XHSwQenZlMq"
      },
      "execution_count": 51,
      "outputs": []
    },
    {
      "cell_type": "code",
      "source": [
        ""
      ],
      "metadata": {
        "id": "D2ULc4CVSo7A"
      },
      "execution_count": null,
      "outputs": []
    },
    {
      "cell_type": "code",
      "source": [
        ""
      ],
      "metadata": {
        "id": "en-6r_N5SpCG"
      },
      "execution_count": null,
      "outputs": []
    }
  ]
}