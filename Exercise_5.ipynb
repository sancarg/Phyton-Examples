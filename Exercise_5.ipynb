{
  "nbformat": 4,
  "nbformat_minor": 0,
  "metadata": {
    "colab": {
      "name": "Exercise_5.ipynb",
      "provenance": [],
      "collapsed_sections": [],
      "authorship_tag": "ABX9TyOS21QXFEGNbn74MM1TRxmr",
      "include_colab_link": true
    },
    "kernelspec": {
      "name": "python3",
      "display_name": "Python 3"
    },
    "language_info": {
      "name": "python"
    }
  },
  "cells": [
    {
      "cell_type": "markdown",
      "metadata": {
        "id": "view-in-github",
        "colab_type": "text"
      },
      "source": [
        "<a href=\"https://colab.research.google.com/github/glcn35/Phyton-Assignment/blob/main/Exercise_5.ipynb\" target=\"_parent\"><img src=\"https://colab.research.google.com/assets/colab-badge.svg\" alt=\"Open In Colab\"/></a>"
      ]
    },
    {
      "cell_type": "markdown",
      "source": [
        "Python  Exercise-5\n",
        "Write a Python program that will return true if the two given integer values are equal or their sum or difference is 5\n",
        "Python Egzersizi-5\n",
        "Verilen iki tamsayı değeri eşitse veya bunların toplamı veya farkı  5 ise true döndürecek bir Python programı yazın."
      ],
      "metadata": {
        "id": "QIIcsIRkGH92"
      }
    },
    {
      "cell_type": "code",
      "source": [
        "a= int(input(\"bir tamsayı giriniz:\"))\n",
        "b= int(input(\"bir tamsayı giriniz:\"))\n",
        "if a == b :\n",
        "  print(True)\n",
        "elif a+b ==5:\n",
        "  print(True)\n",
        "elif a-b ==5:\n",
        "  print(True)"
      ],
      "metadata": {
        "colab": {
          "base_uri": "https://localhost:8080/"
        },
        "id": "AxUQx6QXGZeq",
        "outputId": "0bd930ce-dfaf-44e7-ba68-a56f49aa7701"
      },
      "execution_count": 3,
      "outputs": [
        {
          "output_type": "stream",
          "name": "stdout",
          "text": [
            "bir tamsayı giriniz:8\n",
            "bir tamsayı giriniz:3\n",
            "True\n"
          ]
        }
      ]
    },
    {
      "cell_type": "code",
      "source": [
        "a= int(input(\"bir tamsayı giriniz:\"))\n",
        "b= int(input(\"bir tamsayı giriniz:\"))\n",
        "if a == b or a+b ==5 or a-b ==5 :\n",
        "  print(True)\n"
      ],
      "metadata": {
        "colab": {
          "base_uri": "https://localhost:8080/"
        },
        "id": "1yVvOnYOH7hS",
        "outputId": "988a3ee2-60ce-4e09-d561-1aa4325558be"
      },
      "execution_count": 4,
      "outputs": [
        {
          "output_type": "stream",
          "name": "stdout",
          "text": [
            "bir tamsayı giriniz:6\n",
            "bir tamsayı giriniz:6\n",
            "True\n"
          ]
        }
      ]
    }
  ]
}