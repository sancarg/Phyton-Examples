{
  "nbformat": 4,
  "nbformat_minor": 0,
  "metadata": {
    "colab": {
      "name": "Exercise_8.ipynb",
      "provenance": [],
      "collapsed_sections": [],
      "authorship_tag": "ABX9TyPU/ssnO8s0ZrGdYa9aiSdc",
      "include_colab_link": true
    },
    "kernelspec": {
      "name": "python3",
      "display_name": "Python 3"
    },
    "language_info": {
      "name": "python"
    }
  },
  "cells": [
    {
      "cell_type": "markdown",
      "metadata": {
        "id": "view-in-github",
        "colab_type": "text"
      },
      "source": [
        "<a href=\"https://colab.research.google.com/github/glcn35/Phyton-Assignment/blob/main/Exercise_8.ipynb\" target=\"_parent\"><img src=\"https://colab.research.google.com/assets/colab-badge.svg\" alt=\"Open In Colab\"/></a>"
      ]
    },
    {
      "cell_type": "markdown",
      "source": [
        "Python Exercise\n",
        "The user enters a string and a substring. You have to print the number of times that the substring occurs in the given string. String traversal will take place from left to right, not from right to left.\n",
        "NOTE: String letters are case-sensitive.\n",
        "Sample Input\n",
        "ABCDCDC\n",
        "CDC\n",
        "Sample Output\n",
        "2\n",
        "\n",
        "Kullanıcı bir dize ve bir alt dize girer. Verilen dizede alt dizenin kaç kez oluştuğunu yazdırmanız gerekir. Dize geçişi sağdan sola değil soldan sağa gerçekleşecektir.\n",
        "NOT: Dize harfleri büyük/küçük harf duyarlıdır.\n",
        "Örnek Giriş\n",
        "ABCDCDC\n",
        "CDC\n",
        "Örnek Çıktı\n",
        "2\n"
      ],
      "metadata": {
        "id": "33Tamw51AHas"
      }
    },
    {
      "cell_type": "code",
      "source": [
        "text = input(\"\")\n",
        "sub_text= input(\"\")\n",
        "count = 0\n",
        "for i in range(len(text)) :\n",
        "  if text[i:i+len(sub_text)] == sub_text :\n",
        "    print(text[i:i+len(sub_text)])\n",
        "    count += 1\n",
        "print(count)"
      ],
      "metadata": {
        "id": "AHjIlvXiCavp"
      },
      "execution_count": null,
      "outputs": []
    },
    {
      "cell_type": "markdown",
      "source": [
        "ÇÖZÜM ŞEKLİ PEK MANTIKLI GELMEDİ BANA..."
      ],
      "metadata": {
        "id": "7sqJ6nuYCger"
      }
    }
  ]
}