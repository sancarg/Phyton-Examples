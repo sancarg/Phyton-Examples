{
  "nbformat": 4,
  "nbformat_minor": 0,
  "metadata": {
    "colab": {
      "name": "sunday_exercise.ipynb",
      "provenance": [],
      "collapsed_sections": [],
      "authorship_tag": "ABX9TyNBp57jFOMciyQNf6/yOBXb",
      "include_colab_link": true
    },
    "kernelspec": {
      "name": "python3",
      "display_name": "Python 3"
    },
    "language_info": {
      "name": "python"
    }
  },
  "cells": [
    {
      "cell_type": "markdown",
      "metadata": {
        "id": "view-in-github",
        "colab_type": "text"
      },
      "source": [
        "<a href=\"https://colab.research.google.com/github/glcn35/Phyton-Assignment/blob/main/sunday_exercise.ipynb\" target=\"_parent\"><img src=\"https://colab.research.google.com/assets/colab-badge.svg\" alt=\"Open In Colab\"/></a>"
      ]
    },
    {
      "cell_type": "markdown",
      "source": [
        "** Sunday Python Exercise **\n",
        "You are asked to ensure that the first and last names of people begin with a capital letter in their passports. For example, alison heck should be capitalised correctly as Alison Heck.\n",
        ":exclamation:Note: in a word only the first character is capitalized. Example 12abc when capitalized remains 12abc.\n",
        "\n",
        "Kişilerin pasaportlarında ad ve soyadlarının büyük harfle başlamasını sağlamanız istenmektedir. Örneğin, alison heck, Alison Heck olarak doğru bir şekilde büyük harfle yazılmalıdır.\n",
        ":ünlem:Not: Bir kelimede yalnızca ilk karakter büyük harfle yazılır. Örnek 12abc, büyük harfle yazıldığında 12abc olarak kalır."
      ],
      "metadata": {
        "id": "seRcw3JILFjg"
      }
    },
    {
      "cell_type": "code",
      "source": [
        "name = input('enter your name :').capitalize()\n",
        "surname=input('enter your surname :').capitalize()\n",
        "print(name,surname)"
      ],
      "metadata": {
        "colab": {
          "base_uri": "https://localhost:8080/"
        },
        "id": "uqP7le-oLJjl",
        "outputId": "4775286f-4ad4-4763-fa94-4ccf7e064c7d"
      },
      "execution_count": 4,
      "outputs": [
        {
          "output_type": "stream",
          "name": "stdout",
          "text": [
            "enter your name :gülcan\n",
            "enter your surname :dinçsOY\n",
            "Gülcan Dinçsoy\n"
          ]
        }
      ]
    },
    {
      "cell_type": "code",
      "source": [
        "name_sname = input(\"enter your name and surname :\").split()\n",
        "name_sname\n",
        "\" \".join(name_sname).title()"
      ],
      "metadata": {
        "colab": {
          "base_uri": "https://localhost:8080/",
          "height": 53
        },
        "id": "gv5q5CEPMWc8",
        "outputId": "8277d18f-461e-4b75-8b78-dca159bcc976"
      },
      "execution_count": 9,
      "outputs": [
        {
          "name": "stdout",
          "output_type": "stream",
          "text": [
            "enter your name and surname :gÜLCAN dİNçsoy\n"
          ]
        },
        {
          "output_type": "execute_result",
          "data": {
            "application/vnd.google.colaboratory.intrinsic+json": {
              "type": "string"
            },
            "text/plain": [
              "'Gülcan Di̇nçsoy'"
            ]
          },
          "metadata": {},
          "execution_count": 9
        }
      ]
    }
  ]
}