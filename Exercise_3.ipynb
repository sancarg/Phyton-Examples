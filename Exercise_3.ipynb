{
  "nbformat": 4,
  "nbformat_minor": 0,
  "metadata": {
    "colab": {
      "name": "Exercise_3.ipynb",
      "provenance": [],
      "collapsed_sections": [],
      "authorship_tag": "ABX9TyNJGiBUA3ietKb4O6Un7Geh",
      "include_colab_link": true
    },
    "kernelspec": {
      "name": "python3",
      "display_name": "Python 3"
    },
    "language_info": {
      "name": "python"
    }
  },
  "cells": [
    {
      "cell_type": "markdown",
      "metadata": {
        "id": "view-in-github",
        "colab_type": "text"
      },
      "source": [
        "<a href=\"https://colab.research.google.com/github/glcn35/Phyton-Assignment/blob/main/Exercise_3.ipynb\" target=\"_parent\"><img src=\"https://colab.research.google.com/assets/colab-badge.svg\" alt=\"Open In Colab\"/></a>"
      ]
    },
    {
      "cell_type": "markdown",
      "source": [
        "Python Exercise-3\n",
        "Write a Python program to sum of three given integers. However, if two values are equal sum will be zero.\n",
        "Verilen üç tamsayıyı toplayan bir Python programı yazın. Ancak, iki değer eşitse toplam sıfır olacaktır."
      ],
      "metadata": {
        "id": "6DZAB3U1DS8j"
      }
    },
    {
      "cell_type": "code",
      "source": [
        "a= int(input(\"bir tamsayı giriniz:\"))\n",
        "b= int(input(\"bir tamsayı giriniz:\"))\n",
        "c= int(input(\"bir tamsayı giriniz:\"))\n",
        "if a== b or b==c or a==c:\n",
        "  print(\"toplam:\",0)\n",
        "else:\n",
        "  print(\"toplam:\",a+b+c)\n"
      ],
      "metadata": {
        "colab": {
          "base_uri": "https://localhost:8080/"
        },
        "id": "ullr93bRDg-P",
        "outputId": "a44e6aab-0446-4a64-e4ad-dce723cb9187"
      },
      "execution_count": 5,
      "outputs": [
        {
          "output_type": "stream",
          "name": "stdout",
          "text": [
            "bir tamsayı giriniz:3\n",
            "bir tamsayı giriniz:6\n",
            "bir tamsayı giriniz:9\n",
            "toplam: 18\n"
          ]
        }
      ]
    },
    {
      "cell_type": "code",
      "source": [
        ""
      ],
      "metadata": {
        "id": "1wlh99BBEbLk"
      },
      "execution_count": null,
      "outputs": []
    },
    {
      "cell_type": "code",
      "source": [
        ""
      ],
      "metadata": {
        "id": "7tB3I1QfEbhT"
      },
      "execution_count": null,
      "outputs": []
    },
    {
      "cell_type": "code",
      "source": [
        ""
      ],
      "metadata": {
        "id": "Gj0AzgPlDhMm"
      },
      "execution_count": null,
      "outputs": []
    },
    {
      "cell_type": "code",
      "source": [
        ""
      ],
      "metadata": {
        "id": "h7jz8bvBDhSZ"
      },
      "execution_count": null,
      "outputs": []
    }
  ]
}