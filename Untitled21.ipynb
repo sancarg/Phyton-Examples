{
  "nbformat": 4,
  "nbformat_minor": 0,
  "metadata": {
    "colab": {
      "name": "Untitled21.ipynb",
      "provenance": [],
      "authorship_tag": "ABX9TyNbqlquayw7gYdlkxvRehi6",
      "include_colab_link": true
    },
    "kernelspec": {
      "name": "python3",
      "display_name": "Python 3"
    },
    "language_info": {
      "name": "python"
    }
  },
  "cells": [
    {
      "cell_type": "markdown",
      "metadata": {
        "id": "view-in-github",
        "colab_type": "text"
      },
      "source": [
        "<a href=\"https://colab.research.google.com/github/glcn35/Phyton-Assignment/blob/main/Untitled21.ipynb\" target=\"_parent\"><img src=\"https://colab.research.google.com/assets/colab-badge.svg\" alt=\"Open In Colab\"/></a>"
      ]
    },
    {
      "cell_type": "code",
      "execution_count": 4,
      "metadata": {
        "colab": {
          "base_uri": "https://localhost:8080/"
        },
        "id": "zLIyoo2bc4VT",
        "outputId": "96fdbf5f-a6d8-4012-9f3f-2b677b2c5de4"
      },
      "outputs": [
        {
          "output_type": "stream",
          "name": "stdout",
          "text": [
            "b\n",
            "c\n",
            "d\n"
          ]
        }
      ],
      "source": [
        "li =['a', 'b', 'c', 'd']\n",
        "for i in li:\n",
        "    if(i =='a'):\n",
        "        pass\n",
        "    else:\n",
        "        print(i)"
      ]
    },
    {
      "cell_type": "code",
      "source": [
        "while True:\n",
        "    parola = input(\"parola belirleyin: \")\n",
        "\n",
        "    if not parola:\n",
        "        pass\n",
        "\n",
        "    elif len(parola) in range(3, 8): #eğer parolanın uzunluğu 3 ile 8 karakter\n",
        "        #aralığında ise...\n",
        "        print(\"Yeni parolanız\", parola)\n",
        "        break\n",
        "\n",
        "    else:\n",
        "        print(\"parola 8 karakterden uzun 3 karakterden kısa olmamalı\")\n"
      ],
      "metadata": {
        "colab": {
          "base_uri": "https://localhost:8080/"
        },
        "id": "bBD-h3MpuyeM",
        "outputId": "fad171f3-6206-4d07-8bf3-619dfd53209e"
      },
      "execution_count": null,
      "outputs": [
        {
          "output_type": "stream",
          "name": "stdout",
          "text": [
            "parola belirleyin: 32\n",
            "parola 8 karakterden uzun 3 karakterden kısa olmamalı\n"
          ]
        }
      ]
    },
    {
      "cell_type": "code",
      "source": [
        "def advanced_sort(arry) :\n",
        "  arry_dict= {}\n",
        "  for i in arry :\n",
        "    if i not in arry_dict :\n",
        "      arry_dict[i] = [i]\n",
        "    else :\n",
        "      arry_dict[i] += [i]\n",
        "  return [i for i in arry_dict.values()]\n",
        "advanced_sort([5, 4, 5, 5, 4, 3]) "
      ],
      "metadata": {
        "colab": {
          "base_uri": "https://localhost:8080/"
        },
        "id": "T8_tw1Qy7e1X",
        "outputId": "a8a6ad55-4f79-494f-d998-7384d3a2841f"
      },
      "execution_count": 1,
      "outputs": [
        {
          "output_type": "execute_result",
          "data": {
            "text/plain": [
              "[[5, 5, 5], [4, 4], [3]]"
            ]
          },
          "metadata": {},
          "execution_count": 1
        }
      ]
    },
    {
      "cell_type": "code",
      "source": [
        ""
      ],
      "metadata": {
        "id": "4PpHRfxG7v_i"
      },
      "execution_count": null,
      "outputs": []
    },
    {
      "cell_type": "code",
      "source": [
        ""
      ],
      "metadata": {
        "id": "aM6Bp3gi7wU1"
      },
      "execution_count": null,
      "outputs": []
    }
  ]
}