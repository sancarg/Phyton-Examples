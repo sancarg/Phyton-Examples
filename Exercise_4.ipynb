{
  "nbformat": 4,
  "nbformat_minor": 0,
  "metadata": {
    "colab": {
      "name": "Exercise_4.ipynb",
      "provenance": [],
      "collapsed_sections": [],
      "authorship_tag": "ABX9TyN2WHJTjEzyqJqWEEdmMu5P",
      "include_colab_link": true
    },
    "kernelspec": {
      "name": "python3",
      "display_name": "Python 3"
    },
    "language_info": {
      "name": "python"
    }
  },
  "cells": [
    {
      "cell_type": "markdown",
      "metadata": {
        "id": "view-in-github",
        "colab_type": "text"
      },
      "source": [
        "<a href=\"https://colab.research.google.com/github/glcn35/Phyton-Assignment/blob/main/Exercise_4.ipynb\" target=\"_parent\"><img src=\"https://colab.research.google.com/assets/colab-badge.svg\" alt=\"Open In Colab\"/></a>"
      ]
    },
    {
      "cell_type": "markdown",
      "source": [
        "Python Exercise-4\n",
        "Write a Python program to sum of two given integers. However, if the sum is between 15 to 20 it will return\n",
        "Verilen iki tamsayıyı toplayan bir Python programı yazın. Ancak, toplam 15 ila 20 arasındaysa, geri dönecektir."
      ],
      "metadata": {
        "id": "FexP5HqJEoGg"
      }
    },
    {
      "cell_type": "code",
      "source": [
        "a= int(input(\"bir tamsayı giriniz:\"))\n",
        "b= int(input(\"bir tamsayı giriniz:\"))\n",
        "if 15< (a + b) <20:\n",
        "  print(\"toplam:\" , a+b)\n",
        "else:\n",
        "  print(\"toplam 15 ile 20 arasında değil.\")"
      ],
      "metadata": {
        "colab": {
          "base_uri": "https://localhost:8080/"
        },
        "id": "OZ-oftfoEtN8",
        "outputId": "a0829691-71a9-4bef-9f42-804b1e762d47"
      },
      "execution_count": 4,
      "outputs": [
        {
          "output_type": "stream",
          "name": "stdout",
          "text": [
            "bir tamsayı giriniz:2\n",
            "bir tamsayı giriniz:3\n",
            "toplam 15 ile 20 arasında değil.\n"
          ]
        }
      ]
    },
    {
      "cell_type": "code",
      "source": [
        ""
      ],
      "metadata": {
        "id": "D9aRSLz7Etid"
      },
      "execution_count": null,
      "outputs": []
    }
  ]
}