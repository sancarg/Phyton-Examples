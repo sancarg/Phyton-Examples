{
  "nbformat": 4,
  "nbformat_minor": 0,
  "metadata": {
    "colab": {
      "name": "Untitled14.ipynb",
      "provenance": [],
      "authorship_tag": "ABX9TyOgxARH63hEivqcXCE5etYk",
      "include_colab_link": true
    },
    "kernelspec": {
      "name": "python3",
      "display_name": "Python 3"
    },
    "language_info": {
      "name": "python"
    }
  },
  "cells": [
    {
      "cell_type": "markdown",
      "metadata": {
        "id": "view-in-github",
        "colab_type": "text"
      },
      "source": [
        "<a href=\"https://colab.research.google.com/github/glcn35/Phyton-Assignment/blob/main/fibonacci.ipynb\" target=\"_parent\"><img src=\"https://colab.research.google.com/assets/colab-badge.svg\" alt=\"Open In Colab\"/></a>"
      ]
    },
    {
      "cell_type": "markdown",
      "metadata": {
        "id": "3viQF68Mcj5l"
      },
      "source": [
        ""
      ]
    },
    {
      "cell_type": "code",
      "metadata": {
        "id": "rH3nzgqvcleq"
      },
      "source": [
        "fibonacci"
      ],
      "execution_count": null,
      "outputs": []
    },
    {
      "cell_type": "code",
      "metadata": {
        "colab": {
          "base_uri": "https://localhost:8080/"
        },
        "id": "URHPzNe9chBE",
        "outputId": "e3d5da8b-da5f-402e-ebdf-87981a2276e5"
      },
      "source": [
        "ilk_sayi = 0\n",
        "son_sayi = 1\n",
        "fibo_list =[]\n",
        "while son_sayi <= 55:\n",
        "  fibo_list.append(son_sayi)\n",
        "  ilk_sayi, son_sayi = son_sayi, son_sayi + ilk_sayi\n",
        "print(fibo_list[:])"
      ],
      "execution_count": 2,
      "outputs": [
        {
          "output_type": "stream",
          "name": "stdout",
          "text": [
            "[1, 1, 2, 3, 5, 8, 13, 21, 34, 55]\n"
          ]
        }
      ]
    },
    {
      "cell_type": "code",
      "metadata": {
        "colab": {
          "base_uri": "https://localhost:8080/"
        },
        "id": "7Drf8pnTco7B",
        "outputId": "a76b5b44-eddb-4bf1-9ca1-9ac850e58f3d"
      },
      "source": [
        "fibo_list = [0,1]\n",
        "for i in range(1,10):\n",
        "  i = fibo_list[i] + fibo_list[i-1]\n",
        "  fibo_list.append(i)\n",
        "  if i == 55:\n",
        "    break \n",
        "print(fibo_list[1:])"
      ],
      "execution_count": 3,
      "outputs": [
        {
          "output_type": "stream",
          "name": "stdout",
          "text": [
            "[1, 1, 2, 3, 5, 8, 13, 21, 34, 55]\n"
          ]
        }
      ]
    },
    {
      "cell_type": "code",
      "metadata": {
        "colab": {
          "base_uri": "https://localhost:8080/"
        },
        "id": "liWj3yxLco9g",
        "outputId": "d727bc76-26fc-4cf6-c611-68b90b30a9e1"
      },
      "source": [
        "ilk_sayi = 0\n",
        "son_sayi = 1\n",
        "gecici_sayi = 1\n",
        "fibo_list =[]\n",
        "son_deger = input(\"Liste hangi sayıya kadar olsun?\")\n",
        "while son_sayi <= int(son_deger):\n",
        "  fibo_list.append(son_sayi)\n",
        "  gecici_sayi = son_sayi + ilk_sayi\n",
        "  ilk_sayi = son_sayi\n",
        "  son_sayi = gecici_sayi\n",
        "print(fibo_list[:])"
      ],
      "execution_count": 4,
      "outputs": [
        {
          "output_type": "stream",
          "name": "stdout",
          "text": [
            "Liste hangi sayıya kadar olsun?55\n",
            "[1, 1, 2, 3, 5, 8, 13, 21, 34, 55]\n"
          ]
        }
      ]
    },
    {
      "cell_type": "code",
      "metadata": {
        "id": "EZLs4AaAco_1"
      },
      "source": [
        ""
      ],
      "execution_count": null,
      "outputs": []
    },
    {
      "cell_type": "code",
      "metadata": {
        "id": "_fzdpJ3McpCZ"
      },
      "source": [
        ""
      ],
      "execution_count": null,
      "outputs": []
    },
    {
      "cell_type": "code",
      "metadata": {
        "id": "F6XnmOL3cpE2"
      },
      "source": [
        ""
      ],
      "execution_count": null,
      "outputs": []
    },
    {
      "cell_type": "code",
      "metadata": {
        "id": "WeBax-WhcpHW"
      },
      "source": [
        ""
      ],
      "execution_count": null,
      "outputs": []
    },
    {
      "cell_type": "code",
      "metadata": {
        "id": "iSh60N5zcpUp"
      },
      "source": [
        ""
      ],
      "execution_count": null,
      "outputs": []
    },
    {
      "cell_type": "markdown",
      "metadata": {
        "id": "A09M7zQSciY9"
      },
      "source": [
        ""
      ]
    }
  ]
}